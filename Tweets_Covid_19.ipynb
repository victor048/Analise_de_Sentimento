{
  "nbformat": 4,
  "nbformat_minor": 0,
  "metadata": {
    "colab": {
      "name": "Tweets_Covid-19.ipynb",
      "provenance": [],
      "collapsed_sections": [],
      "authorship_tag": "ABX9TyPDOT+2GvbKijkhTi2Z61OZ",
      "include_colab_link": true
    },
    "kernelspec": {
      "name": "python3",
      "display_name": "Python 3"
    },
    "language_info": {
      "name": "python"
    }
  },
  "cells": [
    {
      "cell_type": "markdown",
      "metadata": {
        "id": "view-in-github",
        "colab_type": "text"
      },
      "source": [
        "<a href=\"https://colab.research.google.com/github/victor048/Analise_de_Sentimento/blob/main/Tweets_Covid_19.ipynb\" target=\"_parent\"><img src=\"https://colab.research.google.com/assets/colab-badge.svg\" alt=\"Open In Colab\"/></a>"
      ]
    },
    {
      "cell_type": "code",
      "metadata": {
        "id": "TBJImHgb7N5n"
      },
      "source": [
        "# manipilção dos dados\n",
        "import pandas as pd\n",
        "import numpy as np\n",
        "# visualização\n",
        "import matplotlib.pyplot as plt\n",
        "import seaborn as sns\n",
        "import missingno\n",
        "# expressões Regulares\n",
        "import re\n",
        "import string\n",
        "# processamento de linguagem natural\n",
        "import nltk\n",
        "from nltk.sentiment.vader import SentimentIntensityAnalyzer as SIA\n",
        "from vaderSentiment.vaderSentiment import SentimentIntensityAnalyzer\n",
        "\n",
        "%matplotlib inline"
      ],
      "execution_count": 48,
      "outputs": []
    },
    {
      "cell_type": "code",
      "metadata": {
        "colab": {
          "base_uri": "https://localhost:8080/"
        },
        "id": "ktc9FSpcrCL_",
        "outputId": "83bd90a9-ba8c-4cc8-8106-0095fee82ded"
      },
      "source": [
        "pip install vaderSentiment\n"
      ],
      "execution_count": 2,
      "outputs": [
        {
          "output_type": "stream",
          "text": [
            "Requirement already satisfied: vaderSentiment in /usr/local/lib/python3.7/dist-packages (3.3.2)\n",
            "Requirement already satisfied: requests in /usr/local/lib/python3.7/dist-packages (from vaderSentiment) (2.23.0)\n",
            "Requirement already satisfied: chardet<4,>=3.0.2 in /usr/local/lib/python3.7/dist-packages (from requests->vaderSentiment) (3.0.4)\n",
            "Requirement already satisfied: idna<3,>=2.5 in /usr/local/lib/python3.7/dist-packages (from requests->vaderSentiment) (2.10)\n",
            "Requirement already satisfied: urllib3!=1.25.0,!=1.25.1,<1.26,>=1.21.1 in /usr/local/lib/python3.7/dist-packages (from requests->vaderSentiment) (1.24.3)\n",
            "Requirement already satisfied: certifi>=2017.4.17 in /usr/local/lib/python3.7/dist-packages (from requests->vaderSentiment) (2020.12.5)\n"
          ],
          "name": "stdout"
        }
      ]
    },
    {
      "cell_type": "code",
      "metadata": {
        "id": "mC7OYsKHAPaA"
      },
      "source": [
        "df = pd.read_csv('/content/vaccination_tweets.csv')"
      ],
      "execution_count": 3,
      "outputs": []
    },
    {
      "cell_type": "code",
      "metadata": {
        "id": "YLDuNz0sAPcb",
        "colab": {
          "base_uri": "https://localhost:8080/",
          "height": 501
        },
        "outputId": "4dcbeda3-3fd9-47b3-ff3d-98abfde96b59"
      },
      "source": [
        "df.head()"
      ],
      "execution_count": 4,
      "outputs": [
        {
          "output_type": "execute_result",
          "data": {
            "text/html": [
              "<div>\n",
              "<style scoped>\n",
              "    .dataframe tbody tr th:only-of-type {\n",
              "        vertical-align: middle;\n",
              "    }\n",
              "\n",
              "    .dataframe tbody tr th {\n",
              "        vertical-align: top;\n",
              "    }\n",
              "\n",
              "    .dataframe thead th {\n",
              "        text-align: right;\n",
              "    }\n",
              "</style>\n",
              "<table border=\"1\" class=\"dataframe\">\n",
              "  <thead>\n",
              "    <tr style=\"text-align: right;\">\n",
              "      <th></th>\n",
              "      <th>id</th>\n",
              "      <th>user_name</th>\n",
              "      <th>user_location</th>\n",
              "      <th>user_description</th>\n",
              "      <th>user_created</th>\n",
              "      <th>user_followers</th>\n",
              "      <th>user_friends</th>\n",
              "      <th>user_favourites</th>\n",
              "      <th>user_verified</th>\n",
              "      <th>date</th>\n",
              "      <th>text</th>\n",
              "      <th>hashtags</th>\n",
              "      <th>source</th>\n",
              "      <th>retweets</th>\n",
              "      <th>favorites</th>\n",
              "      <th>is_retweet</th>\n",
              "    </tr>\n",
              "  </thead>\n",
              "  <tbody>\n",
              "    <tr>\n",
              "      <th>0</th>\n",
              "      <td>1340539111971516416</td>\n",
              "      <td>Rachel Roh</td>\n",
              "      <td>La Crescenta-Montrose, CA</td>\n",
              "      <td>Aggregator of Asian American news; scanning di...</td>\n",
              "      <td>2009-04-08 17:52:46</td>\n",
              "      <td>405</td>\n",
              "      <td>1692</td>\n",
              "      <td>3247</td>\n",
              "      <td>False</td>\n",
              "      <td>2020-12-20 06:06:44</td>\n",
              "      <td>Same folks said daikon paste could treat a cyt...</td>\n",
              "      <td>['PfizerBioNTech']</td>\n",
              "      <td>Twitter for Android</td>\n",
              "      <td>0</td>\n",
              "      <td>0</td>\n",
              "      <td>False</td>\n",
              "    </tr>\n",
              "    <tr>\n",
              "      <th>1</th>\n",
              "      <td>1338158543359250433</td>\n",
              "      <td>Albert Fong</td>\n",
              "      <td>San Francisco, CA</td>\n",
              "      <td>Marketing dude, tech geek, heavy metal &amp; '80s ...</td>\n",
              "      <td>2009-09-21 15:27:30</td>\n",
              "      <td>834</td>\n",
              "      <td>666</td>\n",
              "      <td>178</td>\n",
              "      <td>False</td>\n",
              "      <td>2020-12-13 16:27:13</td>\n",
              "      <td>While the world has been on the wrong side of ...</td>\n",
              "      <td>NaN</td>\n",
              "      <td>Twitter Web App</td>\n",
              "      <td>1</td>\n",
              "      <td>1</td>\n",
              "      <td>False</td>\n",
              "    </tr>\n",
              "    <tr>\n",
              "      <th>2</th>\n",
              "      <td>1337858199140118533</td>\n",
              "      <td>eli🇱🇹🇪🇺👌</td>\n",
              "      <td>Your Bed</td>\n",
              "      <td>heil, hydra 🖐☺</td>\n",
              "      <td>2020-06-25 23:30:28</td>\n",
              "      <td>10</td>\n",
              "      <td>88</td>\n",
              "      <td>155</td>\n",
              "      <td>False</td>\n",
              "      <td>2020-12-12 20:33:45</td>\n",
              "      <td>#coronavirus #SputnikV #AstraZeneca #PfizerBio...</td>\n",
              "      <td>['coronavirus', 'SputnikV', 'AstraZeneca', 'Pf...</td>\n",
              "      <td>Twitter for Android</td>\n",
              "      <td>0</td>\n",
              "      <td>0</td>\n",
              "      <td>False</td>\n",
              "    </tr>\n",
              "    <tr>\n",
              "      <th>3</th>\n",
              "      <td>1337855739918835717</td>\n",
              "      <td>Charles Adler</td>\n",
              "      <td>Vancouver, BC - Canada</td>\n",
              "      <td>Hosting \"CharlesAdlerTonight\" Global News Radi...</td>\n",
              "      <td>2008-09-10 11:28:53</td>\n",
              "      <td>49165</td>\n",
              "      <td>3933</td>\n",
              "      <td>21853</td>\n",
              "      <td>True</td>\n",
              "      <td>2020-12-12 20:23:59</td>\n",
              "      <td>Facts are immutable, Senator, even when you're...</td>\n",
              "      <td>NaN</td>\n",
              "      <td>Twitter Web App</td>\n",
              "      <td>446</td>\n",
              "      <td>2129</td>\n",
              "      <td>False</td>\n",
              "    </tr>\n",
              "    <tr>\n",
              "      <th>4</th>\n",
              "      <td>1337854064604966912</td>\n",
              "      <td>Citizen News Channel</td>\n",
              "      <td>NaN</td>\n",
              "      <td>Citizen News Channel bringing you an alternati...</td>\n",
              "      <td>2020-04-23 17:58:42</td>\n",
              "      <td>152</td>\n",
              "      <td>580</td>\n",
              "      <td>1473</td>\n",
              "      <td>False</td>\n",
              "      <td>2020-12-12 20:17:19</td>\n",
              "      <td>Explain to me again why we need a vaccine @Bor...</td>\n",
              "      <td>['whereareallthesickpeople', 'PfizerBioNTech']</td>\n",
              "      <td>Twitter for iPhone</td>\n",
              "      <td>0</td>\n",
              "      <td>0</td>\n",
              "      <td>False</td>\n",
              "    </tr>\n",
              "  </tbody>\n",
              "</table>\n",
              "</div>"
            ],
            "text/plain": [
              "                    id             user_name  ... favorites is_retweet\n",
              "0  1340539111971516416            Rachel Roh  ...         0      False\n",
              "1  1338158543359250433           Albert Fong  ...         1      False\n",
              "2  1337858199140118533              eli🇱🇹🇪🇺👌  ...         0      False\n",
              "3  1337855739918835717         Charles Adler  ...      2129      False\n",
              "4  1337854064604966912  Citizen News Channel  ...         0      False\n",
              "\n",
              "[5 rows x 16 columns]"
            ]
          },
          "metadata": {
            "tags": []
          },
          "execution_count": 4
        }
      ]
    },
    {
      "cell_type": "code",
      "metadata": {
        "id": "SrJiLTqQAPfQ",
        "colab": {
          "base_uri": "https://localhost:8080/"
        },
        "outputId": "c3ebf8e8-37e8-4089-a05a-915f0998a1eb"
      },
      "source": [
        "df.info()"
      ],
      "execution_count": 5,
      "outputs": [
        {
          "output_type": "stream",
          "text": [
            "<class 'pandas.core.frame.DataFrame'>\n",
            "RangeIndex: 8082 entries, 0 to 8081\n",
            "Data columns (total 16 columns):\n",
            " #   Column            Non-Null Count  Dtype \n",
            "---  ------            --------------  ----- \n",
            " 0   id                8082 non-null   int64 \n",
            " 1   user_name         8082 non-null   object\n",
            " 2   user_location     6452 non-null   object\n",
            " 3   user_description  7576 non-null   object\n",
            " 4   user_created      8082 non-null   object\n",
            " 5   user_followers    8082 non-null   int64 \n",
            " 6   user_friends      8082 non-null   int64 \n",
            " 7   user_favourites   8082 non-null   int64 \n",
            " 8   user_verified     8082 non-null   bool  \n",
            " 9   date              8082 non-null   object\n",
            " 10  text              8082 non-null   object\n",
            " 11  hashtags          6133 non-null   object\n",
            " 12  source            8081 non-null   object\n",
            " 13  retweets          8082 non-null   int64 \n",
            " 14  favorites         8082 non-null   int64 \n",
            " 15  is_retweet        8082 non-null   bool  \n",
            "dtypes: bool(2), int64(6), object(8)\n",
            "memory usage: 899.9+ KB\n"
          ],
          "name": "stdout"
        }
      ]
    },
    {
      "cell_type": "code",
      "metadata": {
        "colab": {
          "base_uri": "https://localhost:8080/",
          "height": 304
        },
        "id": "8fVr10GcFW9Y",
        "outputId": "734fb8c9-8330-4877-8e78-96fd1b70ff0c"
      },
      "source": [
        "df.describe()"
      ],
      "execution_count": 6,
      "outputs": [
        {
          "output_type": "execute_result",
          "data": {
            "text/html": [
              "<div>\n",
              "<style scoped>\n",
              "    .dataframe tbody tr th:only-of-type {\n",
              "        vertical-align: middle;\n",
              "    }\n",
              "\n",
              "    .dataframe tbody tr th {\n",
              "        vertical-align: top;\n",
              "    }\n",
              "\n",
              "    .dataframe thead th {\n",
              "        text-align: right;\n",
              "    }\n",
              "</style>\n",
              "<table border=\"1\" class=\"dataframe\">\n",
              "  <thead>\n",
              "    <tr style=\"text-align: right;\">\n",
              "      <th></th>\n",
              "      <th>id</th>\n",
              "      <th>user_followers</th>\n",
              "      <th>user_friends</th>\n",
              "      <th>user_favourites</th>\n",
              "      <th>retweets</th>\n",
              "      <th>favorites</th>\n",
              "    </tr>\n",
              "  </thead>\n",
              "  <tbody>\n",
              "    <tr>\n",
              "      <th>count</th>\n",
              "      <td>8.082000e+03</td>\n",
              "      <td>8.082000e+03</td>\n",
              "      <td>8082.000000</td>\n",
              "      <td>8.082000e+03</td>\n",
              "      <td>8082.000000</td>\n",
              "      <td>8082.000000</td>\n",
              "    </tr>\n",
              "    <tr>\n",
              "      <th>mean</th>\n",
              "      <td>1.354990e+18</td>\n",
              "      <td>3.550042e+04</td>\n",
              "      <td>1192.207127</td>\n",
              "      <td>1.513661e+04</td>\n",
              "      <td>1.472037</td>\n",
              "      <td>8.690671</td>\n",
              "    </tr>\n",
              "    <tr>\n",
              "      <th>std</th>\n",
              "      <td>1.265681e+16</td>\n",
              "      <td>2.914947e+05</td>\n",
              "      <td>2982.597309</td>\n",
              "      <td>4.882913e+04</td>\n",
              "      <td>12.922145</td>\n",
              "      <td>59.121769</td>\n",
              "    </tr>\n",
              "    <tr>\n",
              "      <th>min</th>\n",
              "      <td>1.337728e+18</td>\n",
              "      <td>0.000000e+00</td>\n",
              "      <td>0.000000</td>\n",
              "      <td>0.000000e+00</td>\n",
              "      <td>0.000000</td>\n",
              "      <td>0.000000</td>\n",
              "    </tr>\n",
              "    <tr>\n",
              "      <th>25%</th>\n",
              "      <td>1.344901e+18</td>\n",
              "      <td>1.100000e+02</td>\n",
              "      <td>165.000000</td>\n",
              "      <td>4.172500e+02</td>\n",
              "      <td>0.000000</td>\n",
              "      <td>0.000000</td>\n",
              "    </tr>\n",
              "    <tr>\n",
              "      <th>50%</th>\n",
              "      <td>1.351682e+18</td>\n",
              "      <td>4.805000e+02</td>\n",
              "      <td>465.000000</td>\n",
              "      <td>2.329000e+03</td>\n",
              "      <td>0.000000</td>\n",
              "      <td>1.000000</td>\n",
              "    </tr>\n",
              "    <tr>\n",
              "      <th>75%</th>\n",
              "      <td>1.364592e+18</td>\n",
              "      <td>2.089750e+03</td>\n",
              "      <td>1249.500000</td>\n",
              "      <td>1.124975e+04</td>\n",
              "      <td>1.000000</td>\n",
              "      <td>4.000000</td>\n",
              "    </tr>\n",
              "    <tr>\n",
              "      <th>max</th>\n",
              "      <td>1.384788e+18</td>\n",
              "      <td>1.371493e+07</td>\n",
              "      <td>103226.000000</td>\n",
              "      <td>1.166459e+06</td>\n",
              "      <td>678.000000</td>\n",
              "      <td>2315.000000</td>\n",
              "    </tr>\n",
              "  </tbody>\n",
              "</table>\n",
              "</div>"
            ],
            "text/plain": [
              "                 id  user_followers  ...     retweets    favorites\n",
              "count  8.082000e+03    8.082000e+03  ...  8082.000000  8082.000000\n",
              "mean   1.354990e+18    3.550042e+04  ...     1.472037     8.690671\n",
              "std    1.265681e+16    2.914947e+05  ...    12.922145    59.121769\n",
              "min    1.337728e+18    0.000000e+00  ...     0.000000     0.000000\n",
              "25%    1.344901e+18    1.100000e+02  ...     0.000000     0.000000\n",
              "50%    1.351682e+18    4.805000e+02  ...     0.000000     1.000000\n",
              "75%    1.364592e+18    2.089750e+03  ...     1.000000     4.000000\n",
              "max    1.384788e+18    1.371493e+07  ...   678.000000  2315.000000\n",
              "\n",
              "[8 rows x 6 columns]"
            ]
          },
          "metadata": {
            "tags": []
          },
          "execution_count": 6
        }
      ]
    },
    {
      "cell_type": "code",
      "metadata": {
        "colab": {
          "base_uri": "https://localhost:8080/"
        },
        "id": "vt4sbaWFFi49",
        "outputId": "57ad7306-7b36-4f91-ee3e-efbd10e74ab8"
      },
      "source": [
        "# Aviliar dados faltantes\n",
        "\n",
        "df.isnull().sum().sort_values(ascending=False)"
      ],
      "execution_count": 7,
      "outputs": [
        {
          "output_type": "execute_result",
          "data": {
            "text/plain": [
              "hashtags            1949\n",
              "user_location       1630\n",
              "user_description     506\n",
              "source                 1\n",
              "is_retweet             0\n",
              "favorites              0\n",
              "retweets               0\n",
              "text                   0\n",
              "date                   0\n",
              "user_verified          0\n",
              "user_favourites        0\n",
              "user_friends           0\n",
              "user_followers         0\n",
              "user_created           0\n",
              "user_name              0\n",
              "id                     0\n",
              "dtype: int64"
            ]
          },
          "metadata": {
            "tags": []
          },
          "execution_count": 7
        }
      ]
    },
    {
      "cell_type": "code",
      "metadata": {
        "id": "IetxNeigAPiC",
        "colab": {
          "base_uri": "https://localhost:8080/",
          "height": 222
        },
        "outputId": "454de917-d5f3-435b-e497-ad0407be744f"
      },
      "source": [
        "missingno.matrix(df, figsize=(40,10))"
      ],
      "execution_count": 8,
      "outputs": [
        {
          "output_type": "execute_result",
          "data": {
            "text/plain": [
              "<matplotlib.axes._subplots.AxesSubplot at 0x7f7ab2943a90>"
            ]
          },
          "metadata": {
            "tags": []
          },
          "execution_count": 8
        },
        {
          "output_type": "display_data",
          "data": {
            "image/png": "[encoded data removed]",
            "text/plain": [
              "<Figure size 2880x720 with 2 Axes>"
            ]
          },
          "metadata": {
            "tags": [],
            "needs_background": "light"
          }
        }
      ]
    },
    {
      "cell_type": "code",
      "metadata": {
        "colab": {
          "base_uri": "https://localhost:8080/",
          "height": 450
        },
        "id": "VRlayMWmHXPO",
        "outputId": "76bfab3c-309e-4210-db90-dfe18381d9fa"
      },
      "source": [
        "df[df.isnull().any(axis=1)].head()"
      ],
      "execution_count": 9,
      "outputs": [
        {
          "output_type": "execute_result",
          "data": {
            "text/html": [
              "<div>\n",
              "<style scoped>\n",
              "    .dataframe tbody tr th:only-of-type {\n",
              "        vertical-align: middle;\n",
              "    }\n",
              "\n",
              "    .dataframe tbody tr th {\n",
              "        vertical-align: top;\n",
              "    }\n",
              "\n",
              "    .dataframe thead th {\n",
              "        text-align: right;\n",
              "    }\n",
              "</style>\n",
              "<table border=\"1\" class=\"dataframe\">\n",
              "  <thead>\n",
              "    <tr style=\"text-align: right;\">\n",
              "      <th></th>\n",
              "      <th>id</th>\n",
              "      <th>user_name</th>\n",
              "      <th>user_location</th>\n",
              "      <th>user_description</th>\n",
              "      <th>user_created</th>\n",
              "      <th>user_followers</th>\n",
              "      <th>user_friends</th>\n",
              "      <th>user_favourites</th>\n",
              "      <th>user_verified</th>\n",
              "      <th>date</th>\n",
              "      <th>text</th>\n",
              "      <th>hashtags</th>\n",
              "      <th>source</th>\n",
              "      <th>retweets</th>\n",
              "      <th>favorites</th>\n",
              "      <th>is_retweet</th>\n",
              "    </tr>\n",
              "  </thead>\n",
              "  <tbody>\n",
              "    <tr>\n",
              "      <th>1</th>\n",
              "      <td>1338158543359250433</td>\n",
              "      <td>Albert Fong</td>\n",
              "      <td>San Francisco, CA</td>\n",
              "      <td>Marketing dude, tech geek, heavy metal &amp; '80s ...</td>\n",
              "      <td>2009-09-21 15:27:30</td>\n",
              "      <td>834</td>\n",
              "      <td>666</td>\n",
              "      <td>178</td>\n",
              "      <td>False</td>\n",
              "      <td>2020-12-13 16:27:13</td>\n",
              "      <td>While the world has been on the wrong side of ...</td>\n",
              "      <td>NaN</td>\n",
              "      <td>Twitter Web App</td>\n",
              "      <td>1</td>\n",
              "      <td>1</td>\n",
              "      <td>False</td>\n",
              "    </tr>\n",
              "    <tr>\n",
              "      <th>3</th>\n",
              "      <td>1337855739918835717</td>\n",
              "      <td>Charles Adler</td>\n",
              "      <td>Vancouver, BC - Canada</td>\n",
              "      <td>Hosting \"CharlesAdlerTonight\" Global News Radi...</td>\n",
              "      <td>2008-09-10 11:28:53</td>\n",
              "      <td>49165</td>\n",
              "      <td>3933</td>\n",
              "      <td>21853</td>\n",
              "      <td>True</td>\n",
              "      <td>2020-12-12 20:23:59</td>\n",
              "      <td>Facts are immutable, Senator, even when you're...</td>\n",
              "      <td>NaN</td>\n",
              "      <td>Twitter Web App</td>\n",
              "      <td>446</td>\n",
              "      <td>2129</td>\n",
              "      <td>False</td>\n",
              "    </tr>\n",
              "    <tr>\n",
              "      <th>4</th>\n",
              "      <td>1337854064604966912</td>\n",
              "      <td>Citizen News Channel</td>\n",
              "      <td>NaN</td>\n",
              "      <td>Citizen News Channel bringing you an alternati...</td>\n",
              "      <td>2020-04-23 17:58:42</td>\n",
              "      <td>152</td>\n",
              "      <td>580</td>\n",
              "      <td>1473</td>\n",
              "      <td>False</td>\n",
              "      <td>2020-12-12 20:17:19</td>\n",
              "      <td>Explain to me again why we need a vaccine @Bor...</td>\n",
              "      <td>['whereareallthesickpeople', 'PfizerBioNTech']</td>\n",
              "      <td>Twitter for iPhone</td>\n",
              "      <td>0</td>\n",
              "      <td>0</td>\n",
              "      <td>False</td>\n",
              "    </tr>\n",
              "    <tr>\n",
              "      <th>5</th>\n",
              "      <td>1337852648389832708</td>\n",
              "      <td>Dee</td>\n",
              "      <td>Birmingham, England</td>\n",
              "      <td>Gastroenterology trainee, Clinical Research Fe...</td>\n",
              "      <td>2020-01-26 21:43:12</td>\n",
              "      <td>105</td>\n",
              "      <td>108</td>\n",
              "      <td>106</td>\n",
              "      <td>False</td>\n",
              "      <td>2020-12-12 20:11:42</td>\n",
              "      <td>Does anyone have any useful advice/guidance fo...</td>\n",
              "      <td>NaN</td>\n",
              "      <td>Twitter for iPhone</td>\n",
              "      <td>0</td>\n",
              "      <td>0</td>\n",
              "      <td>False</td>\n",
              "    </tr>\n",
              "    <tr>\n",
              "      <th>7</th>\n",
              "      <td>1337850832256176136</td>\n",
              "      <td>Dr.Krutika Kuppalli</td>\n",
              "      <td>NaN</td>\n",
              "      <td>ID, Global Health, VHF, Pandemic Prep, Emergin...</td>\n",
              "      <td>2019-03-25 04:14:29</td>\n",
              "      <td>21924</td>\n",
              "      <td>593</td>\n",
              "      <td>7815</td>\n",
              "      <td>True</td>\n",
              "      <td>2020-12-12 20:04:29</td>\n",
              "      <td>There have not been many bright days in 2020 b...</td>\n",
              "      <td>['BidenHarris', 'Election2020']</td>\n",
              "      <td>Twitter for iPhone</td>\n",
              "      <td>2</td>\n",
              "      <td>22</td>\n",
              "      <td>False</td>\n",
              "    </tr>\n",
              "  </tbody>\n",
              "</table>\n",
              "</div>"
            ],
            "text/plain": [
              "                    id             user_name  ... favorites is_retweet\n",
              "1  1338158543359250433           Albert Fong  ...         1      False\n",
              "3  1337855739918835717         Charles Adler  ...      2129      False\n",
              "4  1337854064604966912  Citizen News Channel  ...         0      False\n",
              "5  1337852648389832708                   Dee  ...         0      False\n",
              "7  1337850832256176136   Dr.Krutika Kuppalli  ...        22      False\n",
              "\n",
              "[5 rows x 16 columns]"
            ]
          },
          "metadata": {
            "tags": []
          },
          "execution_count": 9
        }
      ]
    },
    {
      "cell_type": "code",
      "metadata": {
        "colab": {
          "base_uri": "https://localhost:8080/"
        },
        "id": "CzSbCtxXH3JT",
        "outputId": "61e55ccb-9c2a-4a03-a1b2-439c2318c51e"
      },
      "source": [
        "df.shape"
      ],
      "execution_count": 10,
      "outputs": [
        {
          "output_type": "execute_result",
          "data": {
            "text/plain": [
              "(8082, 16)"
            ]
          },
          "metadata": {
            "tags": []
          },
          "execution_count": 10
        }
      ]
    },
    {
      "cell_type": "code",
      "metadata": {
        "id": "OovoR68JI12m"
      },
      "source": [
        "linhas, colunas = df.shape"
      ],
      "execution_count": 11,
      "outputs": []
    },
    {
      "cell_type": "code",
      "metadata": {
        "colab": {
          "base_uri": "https://localhost:8080/"
        },
        "id": "T586D0RKI8r6",
        "outputId": "782e7706-b4e5-49a4-8788-33ceba80b823"
      },
      "source": [
        "print(linhas)\n",
        "print(colunas)"
      ],
      "execution_count": 12,
      "outputs": [
        {
          "output_type": "stream",
          "text": [
            "8082\n",
            "16\n"
          ],
          "name": "stdout"
        }
      ]
    },
    {
      "cell_type": "code",
      "metadata": {
        "colab": {
          "base_uri": "https://localhost:8080/"
        },
        "id": "QyepUdKfJDLC",
        "outputId": "e546279b-6583-40d7-9040-f214e5b3f238"
      },
      "source": [
        "percentual_faltantes = (df.isnull().sum()/linhas) *100\n",
        "print(percentual_faltantes)"
      ],
      "execution_count": 13,
      "outputs": [
        {
          "output_type": "stream",
          "text": [
            "id                   0.000000\n",
            "user_name            0.000000\n",
            "user_location       20.168275\n",
            "user_description     6.260827\n",
            "user_created         0.000000\n",
            "user_followers       0.000000\n",
            "user_friends         0.000000\n",
            "user_favourites      0.000000\n",
            "user_verified        0.000000\n",
            "date                 0.000000\n",
            "text                 0.000000\n",
            "hashtags            24.115318\n",
            "source               0.012373\n",
            "retweets             0.000000\n",
            "favorites            0.000000\n",
            "is_retweet           0.000000\n",
            "dtype: float64\n"
          ],
          "name": "stdout"
        }
      ]
    },
    {
      "cell_type": "code",
      "metadata": {
        "id": "2mz6W8vuJWg9"
      },
      "source": [
        "# excluindo dados NaN\n",
        "df = df.dropna()"
      ],
      "execution_count": 14,
      "outputs": []
    },
    {
      "cell_type": "code",
      "metadata": {
        "colab": {
          "base_uri": "https://localhost:8080/"
        },
        "id": "3JfwOGsWJrYc",
        "outputId": "0c8ae01a-81db-43d0-fd99-8b0a1687c150"
      },
      "source": [
        "df.info()"
      ],
      "execution_count": 15,
      "outputs": [
        {
          "output_type": "stream",
          "text": [
            "<class 'pandas.core.frame.DataFrame'>\n",
            "Int64Index: 4749 entries, 0 to 8081\n",
            "Data columns (total 16 columns):\n",
            " #   Column            Non-Null Count  Dtype \n",
            "---  ------            --------------  ----- \n",
            " 0   id                4749 non-null   int64 \n",
            " 1   user_name         4749 non-null   object\n",
            " 2   user_location     4749 non-null   object\n",
            " 3   user_description  4749 non-null   object\n",
            " 4   user_created      4749 non-null   object\n",
            " 5   user_followers    4749 non-null   int64 \n",
            " 6   user_friends      4749 non-null   int64 \n",
            " 7   user_favourites   4749 non-null   int64 \n",
            " 8   user_verified     4749 non-null   bool  \n",
            " 9   date              4749 non-null   object\n",
            " 10  text              4749 non-null   object\n",
            " 11  hashtags          4749 non-null   object\n",
            " 12  source            4749 non-null   object\n",
            " 13  retweets          4749 non-null   int64 \n",
            " 14  favorites         4749 non-null   int64 \n",
            " 15  is_retweet        4749 non-null   bool  \n",
            "dtypes: bool(2), int64(6), object(8)\n",
            "memory usage: 565.8+ KB\n"
          ],
          "name": "stdout"
        }
      ]
    },
    {
      "cell_type": "code",
      "metadata": {
        "id": "BsVJqHcEJvmo"
      },
      "source": [
        "# convertendo o tipo object para datetime\n",
        "df['user_created'] = pd.to_datetime(df['user_created'], format='%Y-%m-%d %H:%M:%S')\n",
        "df['date'] = pd.to_datetime(df['date'], format='%Y-%m-%d %H:%M:%S')"
      ],
      "execution_count": 16,
      "outputs": []
    },
    {
      "cell_type": "code",
      "metadata": {
        "id": "SbJEEuC6APkt",
        "colab": {
          "base_uri": "https://localhost:8080/"
        },
        "outputId": "64f87ddd-ece0-4160-988b-e8c96448f246"
      },
      "source": [
        "df.info()"
      ],
      "execution_count": 17,
      "outputs": [
        {
          "output_type": "stream",
          "text": [
            "<class 'pandas.core.frame.DataFrame'>\n",
            "Int64Index: 4749 entries, 0 to 8081\n",
            "Data columns (total 16 columns):\n",
            " #   Column            Non-Null Count  Dtype         \n",
            "---  ------            --------------  -----         \n",
            " 0   id                4749 non-null   int64         \n",
            " 1   user_name         4749 non-null   object        \n",
            " 2   user_location     4749 non-null   object        \n",
            " 3   user_description  4749 non-null   object        \n",
            " 4   user_created      4749 non-null   datetime64[ns]\n",
            " 5   user_followers    4749 non-null   int64         \n",
            " 6   user_friends      4749 non-null   int64         \n",
            " 7   user_favourites   4749 non-null   int64         \n",
            " 8   user_verified     4749 non-null   bool          \n",
            " 9   date              4749 non-null   datetime64[ns]\n",
            " 10  text              4749 non-null   object        \n",
            " 11  hashtags          4749 non-null   object        \n",
            " 12  source            4749 non-null   object        \n",
            " 13  retweets          4749 non-null   int64         \n",
            " 14  favorites         4749 non-null   int64         \n",
            " 15  is_retweet        4749 non-null   bool          \n",
            "dtypes: bool(2), datetime64[ns](2), int64(6), object(6)\n",
            "memory usage: 565.8+ KB\n"
          ],
          "name": "stdout"
        }
      ]
    },
    {
      "cell_type": "code",
      "metadata": {
        "id": "qi7ZbHdyAPng",
        "colab": {
          "base_uri": "https://localhost:8080/",
          "height": 498
        },
        "outputId": "4063f2e3-4a3e-4ac4-b7bb-1297254725f4"
      },
      "source": [
        "plt.figure(figsize=(8,7))\n",
        "sns.barplot(df['user_location'].value_counts().values[0:5],\n",
        "            df['user_location'].value_counts().index[0:5])"
      ],
      "execution_count": 18,
      "outputs": [
        {
          "output_type": "stream",
          "text": [
            "/usr/local/lib/python3.7/dist-packages/seaborn/_decorators.py:43: FutureWarning: Pass the following variables as keyword args: x, y. From version 0.12, the only valid positional argument will be `data`, and passing other arguments without an explicit keyword will result in an error or misinterpretation.\n",
            "  FutureWarning\n"
          ],
          "name": "stderr"
        },
        {
          "output_type": "execute_result",
          "data": {
            "text/plain": [
              "<matplotlib.axes._subplots.AxesSubplot at 0x7f7aaa81ef10>"
            ]
          },
          "metadata": {
            "tags": []
          },
          "execution_count": 18
        },
        {
          "output_type": "display_data",
          "data": {
            "image/png": "[encoded data removed]",
            "text/plain": [
              "<Figure size 576x504 with 1 Axes>"
            ]
          },
          "metadata": {
            "tags": [],
            "needs_background": "light"
          }
        }
      ]
    },
    {
      "cell_type": "code",
      "metadata": {
        "colab": {
          "base_uri": "https://localhost:8080/",
          "height": 50
        },
        "id": "mZZ9ogJMOnZF",
        "outputId": "f4458e9e-5b29-48b6-cddc-c6cd6286a957"
      },
      "source": [
        "graf_pizza = df['source'][df['user_location'] == 'Canada'].value_counts()\n",
        "plt.figure(figsize=(11,11))"
      ],
      "execution_count": 19,
      "outputs": [
        {
          "output_type": "execute_result",
          "data": {
            "text/plain": [
              "<Figure size 792x792 with 0 Axes>"
            ]
          },
          "metadata": {
            "tags": []
          },
          "execution_count": 19
        },
        {
          "output_type": "display_data",
          "data": {
            "text/plain": [
              "<Figure size 792x792 with 0 Axes>"
            ]
          },
          "metadata": {
            "tags": []
          }
        }
      ]
    },
    {
      "cell_type": "code",
      "metadata": {
        "colab": {
          "base_uri": "https://localhost:8080/"
        },
        "id": "mw4YHYBsRASF",
        "outputId": "ecaa62f1-f86b-49eb-bb6f-a816087408c8"
      },
      "source": [
        "graf_pizza"
      ],
      "execution_count": 20,
      "outputs": [
        {
          "output_type": "execute_result",
          "data": {
            "text/plain": [
              "Twitter Web App        28\n",
              "Twitter for iPhone     13\n",
              "Twitter for Android     8\n",
              "Twitter for iPad        4\n",
              "Name: source, dtype: int64"
            ]
          },
          "metadata": {
            "tags": []
          },
          "execution_count": 20
        }
      ]
    },
    {
      "cell_type": "code",
      "metadata": {
        "id": "f95AS0YgAPrH",
        "colab": {
          "base_uri": "https://localhost:8080/",
          "height": 281
        },
        "outputId": "00c978a0-af7b-4fff-b7a0-4264d3ee4c15"
      },
      "source": [
        "graf_pizza[0:5].plot(kind='pie', title='Source - Canada', autopct='%.2f')"
      ],
      "execution_count": 21,
      "outputs": [
        {
          "output_type": "execute_result",
          "data": {
            "text/plain": [
              "<matplotlib.axes._subplots.AxesSubplot at 0x7f7aa984abd0>"
            ]
          },
          "metadata": {
            "tags": []
          },
          "execution_count": 21
        },
        {
          "output_type": "display_data",
          "data": {
            "image/png": "[encoded data removed]",
            "text/plain": [
              "<Figure size 432x288 with 1 Axes>"
            ]
          },
          "metadata": {
            "tags": []
          }
        }
      ]
    },
    {
      "cell_type": "code",
      "metadata": {
        "colab": {
          "base_uri": "https://localhost:8080/"
        },
        "id": "tToosp1YRwBJ",
        "outputId": "baacc1d7-8db4-41ce-dd21-4938b91e968a"
      },
      "source": [
        "L = ['year','month','day','dayofweek','dayofyear','weekofyear','quarter']\n",
        "df = df.join(pd.concat((getattr(df['date'].dt, i).rename(i) for i in L),\n",
        "                       axis=1))"
      ],
      "execution_count": 22,
      "outputs": [
        {
          "output_type": "stream",
          "text": [
            "/usr/local/lib/python3.7/dist-packages/ipykernel_launcher.py:2: FutureWarning: Series.dt.weekofyear and Series.dt.week have been deprecated.  Please use Series.dt.isocalendar().week instead.\n",
            "  \n"
          ],
          "name": "stderr"
        }
      ]
    },
    {
      "cell_type": "code",
      "metadata": {
        "colab": {
          "base_uri": "https://localhost:8080/",
          "height": 467
        },
        "id": "Wzdl_FCaUQBp",
        "outputId": "73c81aea-3bbf-417e-cc7e-7594f44f4e2c"
      },
      "source": [
        "df.head()"
      ],
      "execution_count": 23,
      "outputs": [
        {
          "output_type": "execute_result",
          "data": {
            "text/html": [
              "<div>\n",
              "<style scoped>\n",
              "    .dataframe tbody tr th:only-of-type {\n",
              "        vertical-align: middle;\n",
              "    }\n",
              "\n",
              "    .dataframe tbody tr th {\n",
              "        vertical-align: top;\n",
              "    }\n",
              "\n",
              "    .dataframe thead th {\n",
              "        text-align: right;\n",
              "    }\n",
              "</style>\n",
              "<table border=\"1\" class=\"dataframe\">\n",
              "  <thead>\n",
              "    <tr style=\"text-align: right;\">\n",
              "      <th></th>\n",
              "      <th>id</th>\n",
              "      <th>user_name</th>\n",
              "      <th>user_location</th>\n",
              "      <th>user_description</th>\n",
              "      <th>user_created</th>\n",
              "      <th>user_followers</th>\n",
              "      <th>user_friends</th>\n",
              "      <th>user_favourites</th>\n",
              "      <th>user_verified</th>\n",
              "      <th>date</th>\n",
              "      <th>text</th>\n",
              "      <th>hashtags</th>\n",
              "      <th>source</th>\n",
              "      <th>retweets</th>\n",
              "      <th>favorites</th>\n",
              "      <th>is_retweet</th>\n",
              "      <th>year</th>\n",
              "      <th>month</th>\n",
              "      <th>day</th>\n",
              "      <th>dayofweek</th>\n",
              "      <th>dayofyear</th>\n",
              "      <th>weekofyear</th>\n",
              "      <th>quarter</th>\n",
              "    </tr>\n",
              "  </thead>\n",
              "  <tbody>\n",
              "    <tr>\n",
              "      <th>0</th>\n",
              "      <td>1340539111971516416</td>\n",
              "      <td>Rachel Roh</td>\n",
              "      <td>La Crescenta-Montrose, CA</td>\n",
              "      <td>Aggregator of Asian American news; scanning di...</td>\n",
              "      <td>2009-04-08 17:52:46</td>\n",
              "      <td>405</td>\n",
              "      <td>1692</td>\n",
              "      <td>3247</td>\n",
              "      <td>False</td>\n",
              "      <td>2020-12-20 06:06:44</td>\n",
              "      <td>Same folks said daikon paste could treat a cyt...</td>\n",
              "      <td>['PfizerBioNTech']</td>\n",
              "      <td>Twitter for Android</td>\n",
              "      <td>0</td>\n",
              "      <td>0</td>\n",
              "      <td>False</td>\n",
              "      <td>2020</td>\n",
              "      <td>12</td>\n",
              "      <td>20</td>\n",
              "      <td>6</td>\n",
              "      <td>355</td>\n",
              "      <td>51</td>\n",
              "      <td>4</td>\n",
              "    </tr>\n",
              "    <tr>\n",
              "      <th>2</th>\n",
              "      <td>1337858199140118533</td>\n",
              "      <td>eli🇱🇹🇪🇺👌</td>\n",
              "      <td>Your Bed</td>\n",
              "      <td>heil, hydra 🖐☺</td>\n",
              "      <td>2020-06-25 23:30:28</td>\n",
              "      <td>10</td>\n",
              "      <td>88</td>\n",
              "      <td>155</td>\n",
              "      <td>False</td>\n",
              "      <td>2020-12-12 20:33:45</td>\n",
              "      <td>#coronavirus #SputnikV #AstraZeneca #PfizerBio...</td>\n",
              "      <td>['coronavirus', 'SputnikV', 'AstraZeneca', 'Pf...</td>\n",
              "      <td>Twitter for Android</td>\n",
              "      <td>0</td>\n",
              "      <td>0</td>\n",
              "      <td>False</td>\n",
              "      <td>2020</td>\n",
              "      <td>12</td>\n",
              "      <td>12</td>\n",
              "      <td>5</td>\n",
              "      <td>347</td>\n",
              "      <td>50</td>\n",
              "      <td>4</td>\n",
              "    </tr>\n",
              "    <tr>\n",
              "      <th>6</th>\n",
              "      <td>1337851215875608579</td>\n",
              "      <td>Gunther Fehlinger</td>\n",
              "      <td>Austria, Ukraine and Kosovo</td>\n",
              "      <td>End North Stream 2 now - the pipeline of corru...</td>\n",
              "      <td>2013-06-10 17:49:22</td>\n",
              "      <td>2731</td>\n",
              "      <td>5001</td>\n",
              "      <td>69344</td>\n",
              "      <td>False</td>\n",
              "      <td>2020-12-12 20:06:00</td>\n",
              "      <td>it is a bit sad to claim the fame for success ...</td>\n",
              "      <td>['vaccination']</td>\n",
              "      <td>Twitter Web App</td>\n",
              "      <td>0</td>\n",
              "      <td>4</td>\n",
              "      <td>False</td>\n",
              "      <td>2020</td>\n",
              "      <td>12</td>\n",
              "      <td>12</td>\n",
              "      <td>5</td>\n",
              "      <td>347</td>\n",
              "      <td>50</td>\n",
              "      <td>4</td>\n",
              "    </tr>\n",
              "    <tr>\n",
              "      <th>9</th>\n",
              "      <td>1337842295857623042</td>\n",
              "      <td>Ch.Amjad Ali</td>\n",
              "      <td>Islamabad</td>\n",
              "      <td>#ProudPakistani #LovePakArmy #PMIK @insafiansp...</td>\n",
              "      <td>2012-11-12 04:18:12</td>\n",
              "      <td>671</td>\n",
              "      <td>2368</td>\n",
              "      <td>20469</td>\n",
              "      <td>False</td>\n",
              "      <td>2020-12-12 19:30:33</td>\n",
              "      <td>#CovidVaccine \\n\\nStates will start getting #C...</td>\n",
              "      <td>['CovidVaccine', 'COVID19Vaccine', 'US', 'paku...</td>\n",
              "      <td>Twitter Web App</td>\n",
              "      <td>0</td>\n",
              "      <td>0</td>\n",
              "      <td>False</td>\n",
              "      <td>2020</td>\n",
              "      <td>12</td>\n",
              "      <td>12</td>\n",
              "      <td>5</td>\n",
              "      <td>347</td>\n",
              "      <td>50</td>\n",
              "      <td>4</td>\n",
              "    </tr>\n",
              "    <tr>\n",
              "      <th>10</th>\n",
              "      <td>1337841934170255365</td>\n",
              "      <td>Tamer Yazar</td>\n",
              "      <td>Turkey-Israel</td>\n",
              "      <td>Im Market Analyst, also Editor... working (fre...</td>\n",
              "      <td>2009-09-17 16:45:16</td>\n",
              "      <td>1302</td>\n",
              "      <td>78</td>\n",
              "      <td>339</td>\n",
              "      <td>False</td>\n",
              "      <td>2020-12-12 19:29:07</td>\n",
              "      <td>while deaths are closing in on the 300,000 mar...</td>\n",
              "      <td>['PfizerBioNTech', 'Vaccine']</td>\n",
              "      <td>Twitter Web App</td>\n",
              "      <td>0</td>\n",
              "      <td>0</td>\n",
              "      <td>False</td>\n",
              "      <td>2020</td>\n",
              "      <td>12</td>\n",
              "      <td>12</td>\n",
              "      <td>5</td>\n",
              "      <td>347</td>\n",
              "      <td>50</td>\n",
              "      <td>4</td>\n",
              "    </tr>\n",
              "  </tbody>\n",
              "</table>\n",
              "</div>"
            ],
            "text/plain": [
              "                     id          user_name  ... weekofyear quarter\n",
              "0   1340539111971516416         Rachel Roh  ...         51       4\n",
              "2   1337858199140118533           eli🇱🇹🇪🇺👌  ...         50       4\n",
              "6   1337851215875608579  Gunther Fehlinger  ...         50       4\n",
              "9   1337842295857623042       Ch.Amjad Ali  ...         50       4\n",
              "10  1337841934170255365        Tamer Yazar  ...         50       4\n",
              "\n",
              "[5 rows x 23 columns]"
            ]
          },
          "metadata": {
            "tags": []
          },
          "execution_count": 23
        }
      ]
    },
    {
      "cell_type": "code",
      "metadata": {
        "colab": {
          "base_uri": "https://localhost:8080/"
        },
        "id": "qg3RyWN8UyWa",
        "outputId": "e27cae6f-a1f9-4046-a6e1-e61ab0e3ec37"
      },
      "source": [
        "df['text']"
      ],
      "execution_count": 24,
      "outputs": [
        {
          "output_type": "execute_result",
          "data": {
            "text/plain": [
              "0       Same folks said daikon paste could treat a cyt...\n",
              "2       #coronavirus #SputnikV #AstraZeneca #PfizerBio...\n",
              "6       it is a bit sad to claim the fame for success ...\n",
              "9       #CovidVaccine \\n\\nStates will start getting #C...\n",
              "10      while deaths are closing in on the 300,000 mar...\n",
              "                              ...                        \n",
              "8073    @narendramodi\\n#5Qs 1146th set\\nSir\\nWud #fore...\n",
              "8074    @CNBCTV18News @ShereenBhan WTF is this? Is he ...\n",
              "8079    Second #PfizerBioNTech vaccine shot done! Than...\n",
              "8080    Second #PfizerBioNTech vaccine is officially i...\n",
              "8081    @mid_day #DGCI why not allow other proven Vacc...\n",
              "Name: text, Length: 4749, dtype: object"
            ]
          },
          "metadata": {
            "tags": []
          },
          "execution_count": 24
        }
      ]
    },
    {
      "cell_type": "code",
      "metadata": {
        "id": "ANk069QYVQIY"
      },
      "source": [
        "def limpeza_do_texto(text):\n",
        "  text = re.sub('\\n', '', text)\n",
        "  text = re.sub('@[^\\s]+', '', text)\n",
        "  text = re.sub('\\B#\\S+','', text)\n",
        "  return text"
      ],
      "execution_count": 25,
      "outputs": []
    },
    {
      "cell_type": "code",
      "metadata": {
        "id": "rUZGGBj2XMCH"
      },
      "source": [
        "df['text'] = df['text'].apply(lambda x: limpeza_do_texto(x))"
      ],
      "execution_count": 26,
      "outputs": []
    },
    {
      "cell_type": "code",
      "metadata": {
        "colab": {
          "base_uri": "https://localhost:8080/"
        },
        "id": "ShIIFdpQbm4m",
        "outputId": "70180952-6b19-427c-fe8c-44f89bcf932f"
      },
      "source": [
        "df['text']"
      ],
      "execution_count": 27,
      "outputs": [
        {
          "output_type": "execute_result",
          "data": {
            "text/plain": [
              "0       Same folks said daikon paste could treat a cyt...\n",
              "2             Russian vaccine is created to last 2-4 y...\n",
              "6       it is a bit sad to claim the fame for success ...\n",
              "9        States will start getting  Monday,  says     ...\n",
              "10      while deaths are closing in on the 300,000 mar...\n",
              "                              ...                        \n",
              "8073     1146th setSirWud   entry enrich  Wud it help ...\n",
              "8074      WTF is this? Is he playing a Ping Pong Game?...\n",
              "8079    Second  vaccine shot done! Thanks  💉  https://...\n",
              "8080    Second  vaccine is officially in! 💉Thank you  ...\n",
              "8081          why not allow other proven Vaccines like   \n",
              "Name: text, Length: 4749, dtype: object"
            ]
          },
          "metadata": {
            "tags": []
          },
          "execution_count": 27
        }
      ]
    },
    {
      "cell_type": "code",
      "metadata": {
        "id": "o4DkTyP9e4r4"
      },
      "source": [
        "analisador_de_texto = SentimentIntensityAnalyzer()"
      ],
      "execution_count": 28,
      "outputs": []
    },
    {
      "cell_type": "code",
      "metadata": {
        "id": "VmMNaHtRr0Pm"
      },
      "source": [
        "quantidade_tweets = (len(df['text']))"
      ],
      "execution_count": 29,
      "outputs": []
    },
    {
      "cell_type": "code",
      "metadata": {
        "colab": {
          "base_uri": "https://localhost:8080/"
        },
        "id": "8zGTkATisEOq",
        "outputId": "ec1b70fb-c633-4d65-9fe2-453e28b9261d"
      },
      "source": [
        "print(quantidade_tweets)"
      ],
      "execution_count": 30,
      "outputs": [
        {
          "output_type": "stream",
          "text": [
            "4749\n"
          ],
          "name": "stdout"
        }
      ]
    },
    {
      "cell_type": "code",
      "metadata": {
        "id": "j4uYRE8xsHps"
      },
      "source": [
        "sid = SIA()"
      ],
      "execution_count": 31,
      "outputs": []
    },
    {
      "cell_type": "code",
      "metadata": {
        "colab": {
          "base_uri": "https://localhost:8080/"
        },
        "id": "VMorgdWWs6fr",
        "outputId": "32434d92-00e1-479c-b52f-db654c14523c"
      },
      "source": [
        "nltk.download('vader_lexicon')"
      ],
      "execution_count": 32,
      "outputs": [
        {
          "output_type": "stream",
          "text": [
            "[nltk_data] Downloading package vader_lexicon to /root/nltk_data...\n",
            "[nltk_data]   Package vader_lexicon is already up-to-date!\n"
          ],
          "name": "stdout"
        },
        {
          "output_type": "execute_result",
          "data": {
            "text/plain": [
              "True"
            ]
          },
          "metadata": {
            "tags": []
          },
          "execution_count": 32
        }
      ]
    },
    {
      "cell_type": "code",
      "metadata": {
        "colab": {
          "base_uri": "https://localhost:8080/"
        },
        "id": "WmoNlFCYtLea",
        "outputId": "c1b5c9b1-e155-4fd1-baef-380e1d0871ed"
      },
      "source": [
        "sid"
      ],
      "execution_count": 33,
      "outputs": [
        {
          "output_type": "execute_result",
          "data": {
            "text/plain": [
              "<nltk.sentiment.vader.SentimentIntensityAnalyzer at 0x7f7aa9576850>"
            ]
          },
          "metadata": {
            "tags": []
          },
          "execution_count": 33
        }
      ]
    },
    {
      "cell_type": "code",
      "metadata": {
        "id": "xz9rnEratTVb"
      },
      "source": [
        "df['sentiments'] = df['text'].apply(lambda x: sid.polarity_scores(' '.join(re.findall(r'\\w+',x.lower()))))"
      ],
      "execution_count": 34,
      "outputs": []
    },
    {
      "cell_type": "code",
      "metadata": {
        "colab": {
          "base_uri": "https://localhost:8080/"
        },
        "id": "TQ7wxBLLtizW",
        "outputId": "35ab7d83-5194-4374-8c2d-3ee50135dc66"
      },
      "source": [
        "df['sentiments']"
      ],
      "execution_count": 35,
      "outputs": [
        {
          "output_type": "execute_result",
          "data": {
            "text/plain": [
              "0       {'neg': 0.0, 'neu': 0.803, 'pos': 0.197, 'comp...\n",
              "2       {'neg': 0.0, 'neu': 0.818, 'pos': 0.182, 'comp...\n",
              "6       {'neg': 0.108, 'neu': 0.662, 'pos': 0.23, 'com...\n",
              "9       {'neg': 0.0, 'neu': 1.0, 'pos': 0.0, 'compound...\n",
              "10      {'neg': 0.0, 'neu': 1.0, 'pos': 0.0, 'compound...\n",
              "                              ...                        \n",
              "8073    {'neg': 0.0, 'neu': 0.787, 'pos': 0.213, 'comp...\n",
              "8074    {'neg': 0.176, 'neu': 0.741, 'pos': 0.083, 'co...\n",
              "8079    {'neg': 0.0, 'neu': 0.707, 'pos': 0.293, 'comp...\n",
              "8080    {'neg': 0.0, 'neu': 0.857, 'pos': 0.143, 'comp...\n",
              "8081    {'neg': 0.182, 'neu': 0.545, 'pos': 0.273, 'co...\n",
              "Name: sentiments, Length: 4749, dtype: object"
            ]
          },
          "metadata": {
            "tags": []
          },
          "execution_count": 35
        }
      ]
    },
    {
      "cell_type": "code",
      "metadata": {
        "colab": {
          "base_uri": "https://localhost:8080/",
          "height": 702
        },
        "id": "qodKj6Iatrin",
        "outputId": "7d5d755c-eca2-4384-98a4-01d7a9b98050"
      },
      "source": [
        "df.head()"
      ],
      "execution_count": 36,
      "outputs": [
        {
          "output_type": "execute_result",
          "data": {
            "text/html": [
              "<div>\n",
              "<style scoped>\n",
              "    .dataframe tbody tr th:only-of-type {\n",
              "        vertical-align: middle;\n",
              "    }\n",
              "\n",
              "    .dataframe tbody tr th {\n",
              "        vertical-align: top;\n",
              "    }\n",
              "\n",
              "    .dataframe thead th {\n",
              "        text-align: right;\n",
              "    }\n",
              "</style>\n",
              "<table border=\"1\" class=\"dataframe\">\n",
              "  <thead>\n",
              "    <tr style=\"text-align: right;\">\n",
              "      <th></th>\n",
              "      <th>id</th>\n",
              "      <th>user_name</th>\n",
              "      <th>user_location</th>\n",
              "      <th>user_description</th>\n",
              "      <th>user_created</th>\n",
              "      <th>user_followers</th>\n",
              "      <th>user_friends</th>\n",
              "      <th>user_favourites</th>\n",
              "      <th>user_verified</th>\n",
              "      <th>date</th>\n",
              "      <th>text</th>\n",
              "      <th>hashtags</th>\n",
              "      <th>source</th>\n",
              "      <th>retweets</th>\n",
              "      <th>favorites</th>\n",
              "      <th>is_retweet</th>\n",
              "      <th>year</th>\n",
              "      <th>month</th>\n",
              "      <th>day</th>\n",
              "      <th>dayofweek</th>\n",
              "      <th>dayofyear</th>\n",
              "      <th>weekofyear</th>\n",
              "      <th>quarter</th>\n",
              "      <th>sentiments</th>\n",
              "    </tr>\n",
              "  </thead>\n",
              "  <tbody>\n",
              "    <tr>\n",
              "      <th>0</th>\n",
              "      <td>1340539111971516416</td>\n",
              "      <td>Rachel Roh</td>\n",
              "      <td>La Crescenta-Montrose, CA</td>\n",
              "      <td>Aggregator of Asian American news; scanning di...</td>\n",
              "      <td>2009-04-08 17:52:46</td>\n",
              "      <td>405</td>\n",
              "      <td>1692</td>\n",
              "      <td>3247</td>\n",
              "      <td>False</td>\n",
              "      <td>2020-12-20 06:06:44</td>\n",
              "      <td>Same folks said daikon paste could treat a cyt...</td>\n",
              "      <td>['PfizerBioNTech']</td>\n",
              "      <td>Twitter for Android</td>\n",
              "      <td>0</td>\n",
              "      <td>0</td>\n",
              "      <td>False</td>\n",
              "      <td>2020</td>\n",
              "      <td>12</td>\n",
              "      <td>20</td>\n",
              "      <td>6</td>\n",
              "      <td>355</td>\n",
              "      <td>51</td>\n",
              "      <td>4</td>\n",
              "      <td>{'neg': 0.0, 'neu': 0.803, 'pos': 0.197, 'comp...</td>\n",
              "    </tr>\n",
              "    <tr>\n",
              "      <th>2</th>\n",
              "      <td>1337858199140118533</td>\n",
              "      <td>eli🇱🇹🇪🇺👌</td>\n",
              "      <td>Your Bed</td>\n",
              "      <td>heil, hydra 🖐☺</td>\n",
              "      <td>2020-06-25 23:30:28</td>\n",
              "      <td>10</td>\n",
              "      <td>88</td>\n",
              "      <td>155</td>\n",
              "      <td>False</td>\n",
              "      <td>2020-12-12 20:33:45</td>\n",
              "      <td>Russian vaccine is created to last 2-4 y...</td>\n",
              "      <td>['coronavirus', 'SputnikV', 'AstraZeneca', 'Pf...</td>\n",
              "      <td>Twitter for Android</td>\n",
              "      <td>0</td>\n",
              "      <td>0</td>\n",
              "      <td>False</td>\n",
              "      <td>2020</td>\n",
              "      <td>12</td>\n",
              "      <td>12</td>\n",
              "      <td>5</td>\n",
              "      <td>347</td>\n",
              "      <td>50</td>\n",
              "      <td>4</td>\n",
              "      <td>{'neg': 0.0, 'neu': 0.818, 'pos': 0.182, 'comp...</td>\n",
              "    </tr>\n",
              "    <tr>\n",
              "      <th>6</th>\n",
              "      <td>1337851215875608579</td>\n",
              "      <td>Gunther Fehlinger</td>\n",
              "      <td>Austria, Ukraine and Kosovo</td>\n",
              "      <td>End North Stream 2 now - the pipeline of corru...</td>\n",
              "      <td>2013-06-10 17:49:22</td>\n",
              "      <td>2731</td>\n",
              "      <td>5001</td>\n",
              "      <td>69344</td>\n",
              "      <td>False</td>\n",
              "      <td>2020-12-12 20:06:00</td>\n",
              "      <td>it is a bit sad to claim the fame for success ...</td>\n",
              "      <td>['vaccination']</td>\n",
              "      <td>Twitter Web App</td>\n",
              "      <td>0</td>\n",
              "      <td>4</td>\n",
              "      <td>False</td>\n",
              "      <td>2020</td>\n",
              "      <td>12</td>\n",
              "      <td>12</td>\n",
              "      <td>5</td>\n",
              "      <td>347</td>\n",
              "      <td>50</td>\n",
              "      <td>4</td>\n",
              "      <td>{'neg': 0.108, 'neu': 0.662, 'pos': 0.23, 'com...</td>\n",
              "    </tr>\n",
              "    <tr>\n",
              "      <th>9</th>\n",
              "      <td>1337842295857623042</td>\n",
              "      <td>Ch.Amjad Ali</td>\n",
              "      <td>Islamabad</td>\n",
              "      <td>#ProudPakistani #LovePakArmy #PMIK @insafiansp...</td>\n",
              "      <td>2012-11-12 04:18:12</td>\n",
              "      <td>671</td>\n",
              "      <td>2368</td>\n",
              "      <td>20469</td>\n",
              "      <td>False</td>\n",
              "      <td>2020-12-12 19:30:33</td>\n",
              "      <td>States will start getting  Monday,  says     ...</td>\n",
              "      <td>['CovidVaccine', 'COVID19Vaccine', 'US', 'paku...</td>\n",
              "      <td>Twitter Web App</td>\n",
              "      <td>0</td>\n",
              "      <td>0</td>\n",
              "      <td>False</td>\n",
              "      <td>2020</td>\n",
              "      <td>12</td>\n",
              "      <td>12</td>\n",
              "      <td>5</td>\n",
              "      <td>347</td>\n",
              "      <td>50</td>\n",
              "      <td>4</td>\n",
              "      <td>{'neg': 0.0, 'neu': 1.0, 'pos': 0.0, 'compound...</td>\n",
              "    </tr>\n",
              "    <tr>\n",
              "      <th>10</th>\n",
              "      <td>1337841934170255365</td>\n",
              "      <td>Tamer Yazar</td>\n",
              "      <td>Turkey-Israel</td>\n",
              "      <td>Im Market Analyst, also Editor... working (fre...</td>\n",
              "      <td>2009-09-17 16:45:16</td>\n",
              "      <td>1302</td>\n",
              "      <td>78</td>\n",
              "      <td>339</td>\n",
              "      <td>False</td>\n",
              "      <td>2020-12-12 19:29:07</td>\n",
              "      <td>while deaths are closing in on the 300,000 mar...</td>\n",
              "      <td>['PfizerBioNTech', 'Vaccine']</td>\n",
              "      <td>Twitter Web App</td>\n",
              "      <td>0</td>\n",
              "      <td>0</td>\n",
              "      <td>False</td>\n",
              "      <td>2020</td>\n",
              "      <td>12</td>\n",
              "      <td>12</td>\n",
              "      <td>5</td>\n",
              "      <td>347</td>\n",
              "      <td>50</td>\n",
              "      <td>4</td>\n",
              "      <td>{'neg': 0.0, 'neu': 1.0, 'pos': 0.0, 'compound...</td>\n",
              "    </tr>\n",
              "  </tbody>\n",
              "</table>\n",
              "</div>"
            ],
            "text/plain": [
              "                     id  ...                                         sentiments\n",
              "0   1340539111971516416  ...  {'neg': 0.0, 'neu': 0.803, 'pos': 0.197, 'comp...\n",
              "2   1337858199140118533  ...  {'neg': 0.0, 'neu': 0.818, 'pos': 0.182, 'comp...\n",
              "6   1337851215875608579  ...  {'neg': 0.108, 'neu': 0.662, 'pos': 0.23, 'com...\n",
              "9   1337842295857623042  ...  {'neg': 0.0, 'neu': 1.0, 'pos': 0.0, 'compound...\n",
              "10  1337841934170255365  ...  {'neg': 0.0, 'neu': 1.0, 'pos': 0.0, 'compound...\n",
              "\n",
              "[5 rows x 24 columns]"
            ]
          },
          "metadata": {
            "tags": []
          },
          "execution_count": 36
        }
      ]
    },
    {
      "cell_type": "code",
      "metadata": {
        "id": "6ACCWuq_wVET"
      },
      "source": [
        "df['positive_sentiments'] = df['sentiments'].apply(lambda x: x['pos'])\n",
        "df['neutral_sentiments'] = df['sentiments'].apply(lambda x: x['neu'])\n",
        "df['negative_sentiments'] = df['sentiments'].apply(lambda x: x['neg'])\n",
        "df['compound'] = df['sentiments'].apply(lambda x: x['compound'])"
      ],
      "execution_count": 37,
      "outputs": []
    },
    {
      "cell_type": "code",
      "metadata": {
        "colab": {
          "base_uri": "https://localhost:8080/",
          "height": 702
        },
        "id": "Q_CIPET9yXDX",
        "outputId": "37011e32-e95b-4a42-84ea-3d46e24d025a"
      },
      "source": [
        "df.head()"
      ],
      "execution_count": 38,
      "outputs": [
        {
          "output_type": "execute_result",
          "data": {
            "text/html": [
              "<div>\n",
              "<style scoped>\n",
              "    .dataframe tbody tr th:only-of-type {\n",
              "        vertical-align: middle;\n",
              "    }\n",
              "\n",
              "    .dataframe tbody tr th {\n",
              "        vertical-align: top;\n",
              "    }\n",
              "\n",
              "    .dataframe thead th {\n",
              "        text-align: right;\n",
              "    }\n",
              "</style>\n",
              "<table border=\"1\" class=\"dataframe\">\n",
              "  <thead>\n",
              "    <tr style=\"text-align: right;\">\n",
              "      <th></th>\n",
              "      <th>id</th>\n",
              "      <th>user_name</th>\n",
              "      <th>user_location</th>\n",
              "      <th>user_description</th>\n",
              "      <th>user_created</th>\n",
              "      <th>user_followers</th>\n",
              "      <th>user_friends</th>\n",
              "      <th>user_favourites</th>\n",
              "      <th>user_verified</th>\n",
              "      <th>date</th>\n",
              "      <th>text</th>\n",
              "      <th>hashtags</th>\n",
              "      <th>source</th>\n",
              "      <th>retweets</th>\n",
              "      <th>favorites</th>\n",
              "      <th>is_retweet</th>\n",
              "      <th>year</th>\n",
              "      <th>month</th>\n",
              "      <th>day</th>\n",
              "      <th>dayofweek</th>\n",
              "      <th>dayofyear</th>\n",
              "      <th>weekofyear</th>\n",
              "      <th>quarter</th>\n",
              "      <th>sentiments</th>\n",
              "      <th>positive_sentiments</th>\n",
              "      <th>neutral_sentiments</th>\n",
              "      <th>negative_sentiments</th>\n",
              "      <th>compound</th>\n",
              "    </tr>\n",
              "  </thead>\n",
              "  <tbody>\n",
              "    <tr>\n",
              "      <th>0</th>\n",
              "      <td>1340539111971516416</td>\n",
              "      <td>Rachel Roh</td>\n",
              "      <td>La Crescenta-Montrose, CA</td>\n",
              "      <td>Aggregator of Asian American news; scanning di...</td>\n",
              "      <td>2009-04-08 17:52:46</td>\n",
              "      <td>405</td>\n",
              "      <td>1692</td>\n",
              "      <td>3247</td>\n",
              "      <td>False</td>\n",
              "      <td>2020-12-20 06:06:44</td>\n",
              "      <td>Same folks said daikon paste could treat a cyt...</td>\n",
              "      <td>['PfizerBioNTech']</td>\n",
              "      <td>Twitter for Android</td>\n",
              "      <td>0</td>\n",
              "      <td>0</td>\n",
              "      <td>False</td>\n",
              "      <td>2020</td>\n",
              "      <td>12</td>\n",
              "      <td>20</td>\n",
              "      <td>6</td>\n",
              "      <td>355</td>\n",
              "      <td>51</td>\n",
              "      <td>4</td>\n",
              "      <td>{'neg': 0.0, 'neu': 0.803, 'pos': 0.197, 'comp...</td>\n",
              "      <td>0.197</td>\n",
              "      <td>0.803</td>\n",
              "      <td>0.000</td>\n",
              "      <td>0.4019</td>\n",
              "    </tr>\n",
              "    <tr>\n",
              "      <th>2</th>\n",
              "      <td>1337858199140118533</td>\n",
              "      <td>eli🇱🇹🇪🇺👌</td>\n",
              "      <td>Your Bed</td>\n",
              "      <td>heil, hydra 🖐☺</td>\n",
              "      <td>2020-06-25 23:30:28</td>\n",
              "      <td>10</td>\n",
              "      <td>88</td>\n",
              "      <td>155</td>\n",
              "      <td>False</td>\n",
              "      <td>2020-12-12 20:33:45</td>\n",
              "      <td>Russian vaccine is created to last 2-4 y...</td>\n",
              "      <td>['coronavirus', 'SputnikV', 'AstraZeneca', 'Pf...</td>\n",
              "      <td>Twitter for Android</td>\n",
              "      <td>0</td>\n",
              "      <td>0</td>\n",
              "      <td>False</td>\n",
              "      <td>2020</td>\n",
              "      <td>12</td>\n",
              "      <td>12</td>\n",
              "      <td>5</td>\n",
              "      <td>347</td>\n",
              "      <td>50</td>\n",
              "      <td>4</td>\n",
              "      <td>{'neg': 0.0, 'neu': 0.818, 'pos': 0.182, 'comp...</td>\n",
              "      <td>0.182</td>\n",
              "      <td>0.818</td>\n",
              "      <td>0.000</td>\n",
              "      <td>0.2500</td>\n",
              "    </tr>\n",
              "    <tr>\n",
              "      <th>6</th>\n",
              "      <td>1337851215875608579</td>\n",
              "      <td>Gunther Fehlinger</td>\n",
              "      <td>Austria, Ukraine and Kosovo</td>\n",
              "      <td>End North Stream 2 now - the pipeline of corru...</td>\n",
              "      <td>2013-06-10 17:49:22</td>\n",
              "      <td>2731</td>\n",
              "      <td>5001</td>\n",
              "      <td>69344</td>\n",
              "      <td>False</td>\n",
              "      <td>2020-12-12 20:06:00</td>\n",
              "      <td>it is a bit sad to claim the fame for success ...</td>\n",
              "      <td>['vaccination']</td>\n",
              "      <td>Twitter Web App</td>\n",
              "      <td>0</td>\n",
              "      <td>4</td>\n",
              "      <td>False</td>\n",
              "      <td>2020</td>\n",
              "      <td>12</td>\n",
              "      <td>12</td>\n",
              "      <td>5</td>\n",
              "      <td>347</td>\n",
              "      <td>50</td>\n",
              "      <td>4</td>\n",
              "      <td>{'neg': 0.108, 'neu': 0.662, 'pos': 0.23, 'com...</td>\n",
              "      <td>0.230</td>\n",
              "      <td>0.662</td>\n",
              "      <td>0.108</td>\n",
              "      <td>0.5423</td>\n",
              "    </tr>\n",
              "    <tr>\n",
              "      <th>9</th>\n",
              "      <td>1337842295857623042</td>\n",
              "      <td>Ch.Amjad Ali</td>\n",
              "      <td>Islamabad</td>\n",
              "      <td>#ProudPakistani #LovePakArmy #PMIK @insafiansp...</td>\n",
              "      <td>2012-11-12 04:18:12</td>\n",
              "      <td>671</td>\n",
              "      <td>2368</td>\n",
              "      <td>20469</td>\n",
              "      <td>False</td>\n",
              "      <td>2020-12-12 19:30:33</td>\n",
              "      <td>States will start getting  Monday,  says     ...</td>\n",
              "      <td>['CovidVaccine', 'COVID19Vaccine', 'US', 'paku...</td>\n",
              "      <td>Twitter Web App</td>\n",
              "      <td>0</td>\n",
              "      <td>0</td>\n",
              "      <td>False</td>\n",
              "      <td>2020</td>\n",
              "      <td>12</td>\n",
              "      <td>12</td>\n",
              "      <td>5</td>\n",
              "      <td>347</td>\n",
              "      <td>50</td>\n",
              "      <td>4</td>\n",
              "      <td>{'neg': 0.0, 'neu': 1.0, 'pos': 0.0, 'compound...</td>\n",
              "      <td>0.000</td>\n",
              "      <td>1.000</td>\n",
              "      <td>0.000</td>\n",
              "      <td>0.0000</td>\n",
              "    </tr>\n",
              "    <tr>\n",
              "      <th>10</th>\n",
              "      <td>1337841934170255365</td>\n",
              "      <td>Tamer Yazar</td>\n",
              "      <td>Turkey-Israel</td>\n",
              "      <td>Im Market Analyst, also Editor... working (fre...</td>\n",
              "      <td>2009-09-17 16:45:16</td>\n",
              "      <td>1302</td>\n",
              "      <td>78</td>\n",
              "      <td>339</td>\n",
              "      <td>False</td>\n",
              "      <td>2020-12-12 19:29:07</td>\n",
              "      <td>while deaths are closing in on the 300,000 mar...</td>\n",
              "      <td>['PfizerBioNTech', 'Vaccine']</td>\n",
              "      <td>Twitter Web App</td>\n",
              "      <td>0</td>\n",
              "      <td>0</td>\n",
              "      <td>False</td>\n",
              "      <td>2020</td>\n",
              "      <td>12</td>\n",
              "      <td>12</td>\n",
              "      <td>5</td>\n",
              "      <td>347</td>\n",
              "      <td>50</td>\n",
              "      <td>4</td>\n",
              "      <td>{'neg': 0.0, 'neu': 1.0, 'pos': 0.0, 'compound...</td>\n",
              "      <td>0.000</td>\n",
              "      <td>1.000</td>\n",
              "      <td>0.000</td>\n",
              "      <td>0.0000</td>\n",
              "    </tr>\n",
              "  </tbody>\n",
              "</table>\n",
              "</div>"
            ],
            "text/plain": [
              "                     id          user_name  ... negative_sentiments compound\n",
              "0   1340539111971516416         Rachel Roh  ...               0.000   0.4019\n",
              "2   1337858199140118533           eli🇱🇹🇪🇺👌  ...               0.000   0.2500\n",
              "6   1337851215875608579  Gunther Fehlinger  ...               0.108   0.5423\n",
              "9   1337842295857623042       Ch.Amjad Ali  ...               0.000   0.0000\n",
              "10  1337841934170255365        Tamer Yazar  ...               0.000   0.0000\n",
              "\n",
              "[5 rows x 28 columns]"
            ]
          },
          "metadata": {
            "tags": []
          },
          "execution_count": 38
        }
      ]
    },
    {
      "cell_type": "code",
      "metadata": {
        "id": "6zEnxRgJxcFr"
      },
      "source": [
        "sentimento = []"
      ],
      "execution_count": 39,
      "outputs": []
    },
    {
      "cell_type": "code",
      "metadata": {
        "id": "LtlYFtfCy9rM"
      },
      "source": [
        "for i in df['compound']:\n",
        "  if i >= 0.05:\n",
        "    sentimento.append('Positive')\n",
        "  elif i <= (-0.05):\n",
        "    sentimento.append('Negative')\n",
        "  else:\n",
        "    sentimento.append('Neutral')"
      ],
      "execution_count": 40,
      "outputs": []
    },
    {
      "cell_type": "code",
      "metadata": {
        "colab": {
          "base_uri": "https://localhost:8080/"
        },
        "id": "6tMDzHKS0plk",
        "outputId": "69c95038-9def-4a53-82da-05aa0936dad3"
      },
      "source": [
        "print(sentimento)"
      ],
      "execution_count": 41,
      "outputs": [
        {
          "output_type": "stream",
          "text": [
            "['Positive', 'Positive', 'Positive', 'Neutral', 'Neutral', 'Neutral', 'Neutral', 'Neutral', 'Negative', 'Negative', 'Positive', 'Neutral', 'Negative', 'Neutral', 'Positive', 'Positive', 'Neutral', 'Negative', 'Positive', 'Neutral', 'Neutral', 'Neutral', 'Neutral', 'Neutral', 'Neutral', 'Neutral', 'Negative', 'Negative', 'Neutral', 'Positive', 'Neutral', 'Neutral', 'Neutral', 'Neutral', 'Neutral', 'Negative', 'Negative', 'Neutral', 'Positive', 'Negative', 'Negative', 'Neutral', 'Neutral', 'Neutral', 'Neutral', 'Positive', 'Positive', 'Neutral', 'Neutral', 'Neutral', 'Neutral', 'Neutral', 'Positive', 'Positive', 'Neutral', 'Neutral', 'Neutral', 'Positive', 'Neutral', 'Neutral', 'Neutral', 'Positive', 'Positive', 'Neutral', 'Positive', 'Neutral', 'Neutral', 'Positive', 'Neutral', 'Neutral', 'Neutral', 'Positive', 'Neutral', 'Positive', 'Neutral', 'Positive', 'Neutral', 'Neutral', 'Positive', 'Neutral', 'Neutral', 'Neutral', 'Positive', 'Positive', 'Neutral', 'Neutral', 'Positive', 'Neutral', 'Positive', 'Positive', 'Positive', 'Positive', 'Neutral', 'Neutral', 'Neutral', 'Positive', 'Neutral', 'Neutral', 'Neutral', 'Positive', 'Positive', 'Positive', 'Neutral', 'Neutral', 'Positive', 'Negative', 'Positive', 'Neutral', 'Positive', 'Positive', 'Negative', 'Positive', 'Positive', 'Neutral', 'Positive', 'Negative', 'Neutral', 'Negative', 'Neutral', 'Positive', 'Neutral', 'Negative', 'Positive', 'Positive', 'Positive', 'Neutral', 'Neutral', 'Positive', 'Positive', 'Neutral', 'Neutral', 'Neutral', 'Neutral', 'Positive', 'Positive', 'Neutral', 'Neutral', 'Neutral', 'Positive', 'Negative', 'Neutral', 'Negative', 'Negative', 'Positive', 'Neutral', 'Positive', 'Neutral', 'Neutral', 'Positive', 'Neutral', 'Neutral', 'Negative', 'Neutral', 'Neutral', 'Neutral', 'Neutral', 'Positive', 'Neutral', 'Negative', 'Neutral', 'Positive', 'Neutral', 'Positive', 'Neutral', 'Negative', 'Positive', 'Neutral', 'Neutral', 'Positive', 'Positive', 'Positive', 'Neutral', 'Positive', 'Positive', 'Neutral', 'Positive', 'Neutral', 'Positive', 'Positive', 'Positive', 'Neutral', 'Neutral', 'Positive', 'Positive', 'Neutral', 'Negative', 'Positive', 'Neutral', 'Neutral', 'Positive', 'Positive', 'Negative', 'Neutral', 'Positive', 'Positive', 'Neutral', 'Neutral', 'Positive', 'Positive', 'Positive', 'Neutral', 'Neutral', 'Neutral', 'Neutral', 'Neutral', 'Positive', 'Positive', 'Neutral', 'Neutral', 'Positive', 'Positive', 'Negative', 'Neutral', 'Neutral', 'Positive', 'Negative', 'Neutral', 'Neutral', 'Neutral', 'Neutral', 'Negative', 'Positive', 'Neutral', 'Positive', 'Neutral', 'Positive', 'Neutral', 'Neutral', 'Positive', 'Neutral', 'Negative', 'Positive', 'Positive', 'Positive', 'Positive', 'Neutral', 'Neutral', 'Positive', 'Positive', 'Neutral', 'Positive', 'Neutral', 'Neutral', 'Negative', 'Neutral', 'Neutral', 'Positive', 'Positive', 'Positive', 'Neutral', 'Neutral', 'Neutral', 'Negative', 'Neutral', 'Positive', 'Neutral', 'Neutral', 'Neutral', 'Neutral', 'Neutral', 'Negative', 'Positive', 'Positive', 'Neutral', 'Positive', 'Negative', 'Negative', 'Negative', 'Positive', 'Positive', 'Neutral', 'Positive', 'Negative', 'Positive', 'Neutral', 'Negative', 'Negative', 'Positive', 'Negative', 'Negative', 'Neutral', 'Neutral', 'Negative', 'Positive', 'Negative', 'Positive', 'Neutral', 'Neutral', 'Positive', 'Neutral', 'Positive', 'Neutral', 'Positive', 'Neutral', 'Positive', 'Neutral', 'Neutral', 'Positive', 'Neutral', 'Neutral', 'Negative', 'Neutral', 'Neutral', 'Neutral', 'Neutral', 'Positive', 'Negative', 'Negative', 'Positive', 'Negative', 'Neutral', 'Negative', 'Neutral', 'Neutral', 'Neutral', 'Positive', 'Neutral', 'Positive', 'Neutral', 'Neutral', 'Negative', 'Negative', 'Neutral', 'Negative', 'Negative', 'Neutral', 'Positive', 'Positive', 'Neutral', 'Neutral', 'Positive', 'Positive', 'Positive', 'Neutral', 'Positive', 'Negative', 'Positive', 'Neutral', 'Negative', 'Neutral', 'Neutral', 'Neutral', 'Positive', 'Positive', 'Neutral', 'Negative', 'Neutral', 'Neutral', 'Negative', 'Positive', 'Neutral', 'Neutral', 'Positive', 'Neutral', 'Positive', 'Positive', 'Negative', 'Negative', 'Neutral', 'Neutral', 'Positive', 'Negative', 'Neutral', 'Positive', 'Positive', 'Negative', 'Neutral', 'Positive', 'Neutral', 'Negative', 'Neutral', 'Neutral', 'Positive', 'Negative', 'Positive', 'Neutral', 'Positive', 'Positive', 'Neutral', 'Neutral', 'Neutral', 'Negative', 'Positive', 'Neutral', 'Neutral', 'Positive', 'Negative', 'Neutral', 'Positive', 'Neutral', 'Neutral', 'Positive', 'Negative', 'Neutral', 'Neutral', 'Neutral', 'Neutral', 'Neutral', 'Positive', 'Neutral', 'Positive', 'Negative', 'Positive', 'Neutral', 'Neutral', 'Positive', 'Neutral', 'Neutral', 'Negative', 'Neutral', 'Neutral', 'Positive', 'Neutral', 'Positive', 'Neutral', 'Neutral', 'Positive', 'Positive', 'Positive', 'Neutral', 'Positive', 'Positive', 'Neutral', 'Positive', 'Neutral', 'Positive', 'Neutral', 'Neutral', 'Neutral', 'Neutral', 'Neutral', 'Positive', 'Neutral', 'Neutral', 'Neutral', 'Negative', 'Positive', 'Positive', 'Negative', 'Negative', 'Neutral', 'Negative', 'Negative', 'Positive', 'Neutral', 'Neutral', 'Neutral', 'Neutral', 'Neutral', 'Positive', 'Positive', 'Positive', 'Neutral', 'Negative', 'Positive', 'Neutral', 'Negative', 'Positive', 'Neutral', 'Positive', 'Positive', 'Positive', 'Negative', 'Negative', 'Negative', 'Neutral', 'Positive', 'Positive', 'Neutral', 'Positive', 'Positive', 'Neutral', 'Positive', 'Neutral', 'Neutral', 'Positive', 'Neutral', 'Neutral', 'Neutral', 'Positive', 'Neutral', 'Positive', 'Neutral', 'Positive', 'Negative', 'Positive', 'Negative', 'Neutral', 'Positive', 'Positive', 'Neutral', 'Neutral', 'Neutral', 'Neutral', 'Positive', 'Positive', 'Positive', 'Positive', 'Positive', 'Neutral', 'Neutral', 'Neutral', 'Neutral', 'Positive', 'Neutral', 'Negative', 'Positive', 'Neutral', 'Neutral', 'Positive', 'Neutral', 'Positive', 'Negative', 'Neutral', 'Neutral', 'Positive', 'Positive', 'Positive', 'Positive', 'Positive', 'Neutral', 'Positive', 'Neutral', 'Neutral', 'Neutral', 'Positive', 'Neutral', 'Positive', 'Neutral', 'Neutral', 'Negative', 'Neutral', 'Neutral', 'Negative', 'Positive', 'Negative', 'Neutral', 'Positive', 'Positive', 'Positive', 'Positive', 'Neutral', 'Positive', 'Neutral', 'Positive', 'Neutral', 'Neutral', 'Negative', 'Positive', 'Neutral', 'Positive', 'Positive', 'Neutral', 'Positive', 'Positive', 'Positive', 'Neutral', 'Positive', 'Neutral', 'Positive', 'Positive', 'Neutral', 'Positive', 'Negative', 'Positive', 'Neutral', 'Neutral', 'Neutral', 'Neutral', 'Negative', 'Positive', 'Positive', 'Neutral', 'Positive', 'Positive', 'Neutral', 'Neutral', 'Negative', 'Positive', 'Neutral', 'Positive', 'Neutral', 'Positive', 'Positive', 'Negative', 'Neutral', 'Neutral', 'Neutral', 'Positive', 'Positive', 'Positive', 'Neutral', 'Positive', 'Negative', 'Positive', 'Neutral', 'Positive', 'Neutral', 'Neutral', 'Positive', 'Neutral', 'Neutral', 'Negative', 'Positive', 'Positive', 'Negative', 'Neutral', 'Neutral', 'Neutral', 'Neutral', 'Neutral', 'Negative', 'Neutral', 'Neutral', 'Positive', 'Neutral', 'Neutral', 'Neutral', 'Positive', 'Neutral', 'Neutral', 'Positive', 'Negative', 'Neutral', 'Neutral', 'Neutral', 'Neutral', 'Neutral', 'Neutral', 'Positive', 'Neutral', 'Neutral', 'Neutral', 'Negative', 'Neutral', 'Negative', 'Positive', 'Neutral', 'Positive', 'Positive', 'Neutral', 'Neutral', 'Neutral', 'Neutral', 'Positive', 'Neutral', 'Neutral', 'Positive', 'Negative', 'Neutral', 'Neutral', 'Neutral', 'Neutral', 'Neutral', 'Neutral', 'Positive', 'Positive', 'Positive', 'Neutral', 'Neutral', 'Neutral', 'Neutral', 'Neutral', 'Positive', 'Positive', 'Neutral', 'Neutral', 'Neutral', 'Negative', 'Neutral', 'Positive', 'Neutral', 'Neutral', 'Positive', 'Negative', 'Neutral', 'Neutral', 'Neutral', 'Neutral', 'Neutral', 'Neutral', 'Neutral', 'Positive', 'Neutral', 'Negative', 'Neutral', 'Positive', 'Negative', 'Neutral', 'Neutral', 'Positive', 'Neutral', 'Positive', 'Neutral', 'Neutral', 'Neutral', 'Neutral', 'Neutral', 'Negative', 'Neutral', 'Neutral', 'Negative', 'Positive', 'Positive', 'Positive', 'Neutral', 'Neutral', 'Positive', 'Positive', 'Neutral', 'Negative', 'Negative', 'Neutral', 'Neutral', 'Neutral', 'Neutral', 'Neutral', 'Neutral', 'Neutral', 'Positive', 'Neutral', 'Positive', 'Positive', 'Positive', 'Negative', 'Neutral', 'Neutral', 'Neutral', 'Neutral', 'Positive', 'Positive', 'Positive', 'Neutral', 'Positive', 'Negative', 'Negative', 'Positive', 'Neutral', 'Neutral', 'Positive', 'Positive', 'Positive', 'Neutral', 'Neutral', 'Positive', 'Neutral', 'Neutral', 'Positive', 'Positive', 'Neutral', 'Positive', 'Neutral', 'Neutral', 'Positive', 'Negative', 'Negative', 'Positive', 'Neutral', 'Positive', 'Positive', 'Negative', 'Positive', 'Negative', 'Neutral', 'Neutral', 'Neutral', 'Neutral', 'Positive', 'Positive', 'Neutral', 'Positive', 'Positive', 'Negative', 'Neutral', 'Positive', 'Positive', 'Positive', 'Neutral', 'Neutral', 'Neutral', 'Negative', 'Neutral', 'Positive', 'Positive', 'Neutral', 'Negative', 'Positive', 'Positive', 'Positive', 'Positive', 'Positive', 'Positive', 'Neutral', 'Neutral', 'Negative', 'Positive', 'Positive', 'Neutral', 'Neutral', 'Positive', 'Neutral', 'Positive', 'Positive', 'Neutral', 'Positive', 'Positive', 'Neutral', 'Negative', 'Positive', 'Neutral', 'Negative', 'Negative', 'Positive', 'Positive', 'Neutral', 'Neutral', 'Neutral', 'Neutral', 'Neutral', 'Positive', 'Negative', 'Positive', 'Neutral', 'Neutral', 'Neutral', 'Positive', 'Neutral', 'Positive', 'Neutral', 'Positive', 'Positive', 'Positive', 'Neutral', 'Positive', 'Neutral', 'Positive', 'Positive', 'Neutral', 'Positive', 'Positive', 'Neutral', 'Positive', 'Negative', 'Positive', 'Negative', 'Positive', 'Neutral', 'Positive', 'Positive', 'Positive', 'Neutral', 'Negative', 'Neutral', 'Neutral', 'Neutral', 'Positive', 'Positive', 'Neutral', 'Neutral', 'Negative', 'Positive', 'Positive', 'Neutral', 'Positive', 'Negative', 'Neutral', 'Positive', 'Neutral', 'Positive', 'Neutral', 'Neutral', 'Positive', 'Neutral', 'Neutral', 'Negative', 'Positive', 'Neutral', 'Positive', 'Neutral', 'Negative', 'Positive', 'Neutral', 'Positive', 'Neutral', 'Positive', 'Neutral', 'Neutral', 'Neutral', 'Negative', 'Positive', 'Neutral', 'Positive', 'Positive', 'Positive', 'Neutral', 'Neutral', 'Neutral', 'Neutral', 'Neutral', 'Negative', 'Positive', 'Neutral', 'Positive', 'Negative', 'Positive', 'Neutral', 'Neutral', 'Positive', 'Positive', 'Positive', 'Neutral', 'Neutral', 'Neutral', 'Positive', 'Positive', 'Neutral', 'Positive', 'Neutral', 'Positive', 'Positive', 'Positive', 'Positive', 'Positive', 'Negative', 'Positive', 'Neutral', 'Positive', 'Positive', 'Positive', 'Neutral', 'Negative', 'Neutral', 'Negative', 'Negative', 'Neutral', 'Neutral', 'Neutral', 'Neutral', 'Positive', 'Positive', 'Neutral', 'Positive', 'Neutral', 'Neutral', 'Neutral', 'Positive', 'Neutral', 'Positive', 'Neutral', 'Neutral', 'Positive', 'Positive', 'Neutral', 'Neutral', 'Positive', 'Positive', 'Positive', 'Neutral', 'Neutral', 'Positive', 'Neutral', 'Positive', 'Neutral', 'Neutral', 'Neutral', 'Neutral', 'Positive', 'Neutral', 'Positive', 'Positive', 'Neutral', 'Positive', 'Neutral', 'Negative', 'Positive', 'Negative', 'Neutral', 'Positive', 'Negative', 'Neutral', 'Positive', 'Positive', 'Neutral', 'Negative', 'Negative', 'Neutral', 'Neutral', 'Neutral', 'Neutral', 'Neutral', 'Positive', 'Negative', 'Positive', 'Positive', 'Neutral', 'Negative', 'Positive', 'Neutral', 'Neutral', 'Neutral', 'Positive', 'Neutral', 'Positive', 'Neutral', 'Neutral', 'Positive', 'Neutral', 'Neutral', 'Positive', 'Neutral', 'Negative', 'Neutral', 'Positive', 'Neutral', 'Neutral', 'Positive', 'Positive', 'Positive', 'Positive', 'Positive', 'Negative', 'Neutral', 'Neutral', 'Neutral', 'Positive', 'Neutral', 'Positive', 'Neutral', 'Neutral', 'Neutral', 'Neutral', 'Neutral', 'Neutral', 'Neutral', 'Neutral', 'Negative', 'Positive', 'Neutral', 'Neutral', 'Neutral', 'Neutral', 'Neutral', 'Negative', 'Neutral', 'Neutral', 'Neutral', 'Negative', 'Neutral', 'Negative', 'Positive', 'Positive', 'Positive', 'Positive', 'Positive', 'Negative', 'Positive', 'Positive', 'Positive', 'Positive', 'Positive', 'Negative', 'Neutral', 'Neutral', 'Negative', 'Neutral', 'Positive', 'Neutral', 'Neutral', 'Positive', 'Neutral', 'Positive', 'Neutral', 'Positive', 'Positive', 'Neutral', 'Neutral', 'Negative', 'Neutral', 'Positive', 'Negative', 'Negative', 'Negative', 'Positive', 'Neutral', 'Neutral', 'Positive', 'Positive', 'Neutral', 'Neutral', 'Positive', 'Neutral', 'Positive', 'Neutral', 'Positive', 'Positive', 'Negative', 'Positive', 'Negative', 'Positive', 'Positive', 'Neutral', 'Neutral', 'Negative', 'Positive', 'Positive', 'Neutral', 'Positive', 'Neutral', 'Neutral', 'Neutral', 'Positive', 'Positive', 'Neutral', 'Neutral', 'Negative', 'Negative', 'Neutral', 'Neutral', 'Positive', 'Neutral', 'Neutral', 'Negative', 'Negative', 'Negative', 'Neutral', 'Neutral', 'Positive', 'Neutral', 'Positive', 'Neutral', 'Negative', 'Neutral', 'Positive', 'Neutral', 'Negative', 'Positive', 'Positive', 'Neutral', 'Positive', 'Positive', 'Negative', 'Negative', 'Neutral', 'Neutral', 'Positive', 'Negative', 'Positive', 'Positive', 'Neutral', 'Positive', 'Positive', 'Positive', 'Positive', 'Neutral', 'Positive', 'Positive', 'Neutral', 'Positive', 'Positive', 'Neutral', 'Neutral', 'Neutral', 'Positive', 'Neutral', 'Negative', 'Positive', 'Positive', 'Neutral', 'Positive', 'Neutral', 'Positive', 'Neutral', 'Neutral', 'Negative', 'Negative', 'Neutral', 'Neutral', 'Neutral', 'Positive', 'Positive', 'Positive', 'Negative', 'Neutral', 'Neutral', 'Negative', 'Positive', 'Positive', 'Negative', 'Positive', 'Positive', 'Neutral', 'Neutral', 'Neutral', 'Positive', 'Neutral', 'Positive', 'Neutral', 'Positive', 'Negative', 'Negative', 'Negative', 'Neutral', 'Neutral', 'Negative', 'Positive', 'Positive', 'Positive', 'Neutral', 'Neutral', 'Positive', 'Positive', 'Neutral', 'Neutral', 'Positive', 'Negative', 'Negative', 'Positive', 'Neutral', 'Negative', 'Neutral', 'Neutral', 'Negative', 'Neutral', 'Negative', 'Negative', 'Negative', 'Negative', 'Positive', 'Negative', 'Neutral', 'Negative', 'Negative', 'Positive', 'Negative', 'Neutral', 'Positive', 'Negative', 'Neutral', 'Negative', 'Negative', 'Negative', 'Negative', 'Negative', 'Negative', 'Neutral', 'Neutral', 'Neutral', 'Positive', 'Positive', 'Positive', 'Negative', 'Neutral', 'Positive', 'Neutral', 'Neutral', 'Neutral', 'Positive', 'Neutral', 'Neutral', 'Positive', 'Positive', 'Positive', 'Neutral', 'Neutral', 'Neutral', 'Negative', 'Positive', 'Negative', 'Positive', 'Positive', 'Negative', 'Neutral', 'Positive', 'Neutral', 'Neutral', 'Positive', 'Positive', 'Positive', 'Positive', 'Neutral', 'Negative', 'Neutral', 'Negative', 'Positive', 'Neutral', 'Positive', 'Negative', 'Neutral', 'Positive', 'Neutral', 'Positive', 'Neutral', 'Negative', 'Negative', 'Neutral', 'Negative', 'Positive', 'Neutral', 'Neutral', 'Neutral', 'Positive', 'Negative', 'Neutral', 'Positive', 'Negative', 'Positive', 'Negative', 'Positive', 'Negative', 'Neutral', 'Neutral', 'Neutral', 'Positive', 'Positive', 'Positive', 'Neutral', 'Positive', 'Neutral', 'Positive', 'Positive', 'Negative', 'Positive', 'Neutral', 'Positive', 'Negative', 'Neutral', 'Negative', 'Neutral', 'Neutral', 'Positive', 'Neutral', 'Positive', 'Neutral', 'Neutral', 'Neutral', 'Neutral', 'Neutral', 'Neutral', 'Neutral', 'Positive', 'Positive', 'Neutral', 'Neutral', 'Positive', 'Neutral', 'Neutral', 'Neutral', 'Neutral', 'Neutral', 'Neutral', 'Neutral', 'Neutral', 'Neutral', 'Negative', 'Positive', 'Neutral', 'Negative', 'Positive', 'Positive', 'Neutral', 'Neutral', 'Positive', 'Positive', 'Negative', 'Neutral', 'Negative', 'Positive', 'Negative', 'Neutral', 'Neutral', 'Neutral', 'Neutral', 'Positive', 'Positive', 'Negative', 'Positive', 'Negative', 'Neutral', 'Positive', 'Neutral', 'Neutral', 'Neutral', 'Positive', 'Neutral', 'Neutral', 'Positive', 'Positive', 'Positive', 'Positive', 'Positive', 'Neutral', 'Neutral', 'Positive', 'Neutral', 'Positive', 'Positive', 'Negative', 'Positive', 'Negative', 'Neutral', 'Positive', 'Positive', 'Positive', 'Neutral', 'Neutral', 'Negative', 'Positive', 'Neutral', 'Positive', 'Negative', 'Positive', 'Neutral', 'Positive', 'Negative', 'Neutral', 'Neutral', 'Negative', 'Negative', 'Positive', 'Positive', 'Positive', 'Neutral', 'Positive', 'Neutral', 'Neutral', 'Neutral', 'Positive', 'Positive', 'Neutral', 'Positive', 'Positive', 'Positive', 'Negative', 'Positive', 'Positive', 'Negative', 'Neutral', 'Positive', 'Positive', 'Negative', 'Positive', 'Neutral', 'Positive', 'Positive', 'Positive', 'Positive', 'Neutral', 'Positive', 'Positive', 'Positive', 'Positive', 'Positive', 'Positive', 'Neutral', 'Positive', 'Negative', 'Neutral', 'Neutral', 'Neutral', 'Neutral', 'Negative', 'Neutral', 'Neutral', 'Neutral', 'Neutral', 'Neutral', 'Negative', 'Neutral', 'Positive', 'Neutral', 'Neutral', 'Negative', 'Neutral', 'Positive', 'Neutral', 'Neutral', 'Negative', 'Neutral', 'Positive', 'Neutral', 'Positive', 'Positive', 'Neutral', 'Neutral', 'Neutral', 'Neutral', 'Positive', 'Positive', 'Negative', 'Positive', 'Neutral', 'Neutral', 'Neutral', 'Neutral', 'Neutral', 'Positive', 'Neutral', 'Positive', 'Positive', 'Neutral', 'Positive', 'Positive', 'Positive', 'Neutral', 'Neutral', 'Positive', 'Negative', 'Positive', 'Neutral', 'Positive', 'Positive', 'Positive', 'Positive', 'Positive', 'Negative', 'Neutral', 'Positive', 'Neutral', 'Positive', 'Neutral', 'Neutral', 'Positive', 'Positive', 'Positive', 'Negative', 'Positive', 'Positive', 'Positive', 'Positive', 'Positive', 'Positive', 'Positive', 'Neutral', 'Neutral', 'Positive', 'Negative', 'Neutral', 'Positive', 'Positive', 'Positive', 'Neutral', 'Positive', 'Negative', 'Negative', 'Positive', 'Neutral', 'Positive', 'Positive', 'Negative', 'Positive', 'Positive', 'Positive', 'Positive', 'Neutral', 'Neutral', 'Neutral', 'Positive', 'Neutral', 'Negative', 'Neutral', 'Neutral', 'Negative', 'Positive', 'Negative', 'Neutral', 'Positive', 'Positive', 'Neutral', 'Positive', 'Positive', 'Positive', 'Positive', 'Positive', 'Neutral', 'Positive', 'Neutral', 'Positive', 'Negative', 'Neutral', 'Positive', 'Positive', 'Negative', 'Positive', 'Positive', 'Neutral', 'Neutral', 'Neutral', 'Neutral', 'Negative', 'Neutral', 'Positive', 'Neutral', 'Positive', 'Positive', 'Positive', 'Negative', 'Neutral', 'Positive', 'Positive', 'Positive', 'Neutral', 'Positive', 'Neutral', 'Neutral', 'Neutral', 'Neutral', 'Positive', 'Positive', 'Neutral', 'Positive', 'Neutral', 'Neutral', 'Positive', 'Positive', 'Neutral', 'Positive', 'Positive', 'Neutral', 'Neutral', 'Positive', 'Neutral', 'Positive', 'Positive', 'Negative', 'Positive', 'Neutral', 'Neutral', 'Positive', 'Neutral', 'Positive', 'Positive', 'Positive', 'Neutral', 'Negative', 'Negative', 'Negative', 'Positive', 'Positive', 'Positive', 'Positive', 'Neutral', 'Neutral', 'Positive', 'Positive', 'Neutral', 'Neutral', 'Positive', 'Negative', 'Negative', 'Negative', 'Positive', 'Neutral', 'Positive', 'Neutral', 'Neutral', 'Neutral', 'Neutral', 'Neutral', 'Negative', 'Neutral', 'Negative', 'Positive', 'Positive', 'Neutral', 'Neutral', 'Positive', 'Neutral', 'Neutral', 'Positive', 'Negative', 'Neutral', 'Positive', 'Positive', 'Positive', 'Negative', 'Positive', 'Neutral', 'Positive', 'Positive', 'Negative', 'Neutral', 'Positive', 'Positive', 'Negative', 'Positive', 'Neutral', 'Negative', 'Positive', 'Neutral', 'Neutral', 'Neutral', 'Neutral', 'Neutral', 'Neutral', 'Neutral', 'Neutral', 'Positive', 'Positive', 'Neutral', 'Negative', 'Negative', 'Neutral', 'Neutral', 'Negative', 'Negative', 'Positive', 'Negative', 'Negative', 'Neutral', 'Positive', 'Positive', 'Positive', 'Neutral', 'Positive', 'Negative', 'Positive', 'Neutral', 'Neutral', 'Positive', 'Neutral', 'Neutral', 'Positive', 'Neutral', 'Positive', 'Negative', 'Neutral', 'Positive', 'Positive', 'Negative', 'Positive', 'Positive', 'Neutral', 'Negative', 'Positive', 'Positive', 'Positive', 'Positive', 'Positive', 'Positive', 'Neutral', 'Negative', 'Neutral', 'Neutral', 'Negative', 'Negative', 'Neutral', 'Neutral', 'Positive', 'Positive', 'Negative', 'Neutral', 'Positive', 'Positive', 'Neutral', 'Positive', 'Neutral', 'Positive', 'Positive', 'Positive', 'Positive', 'Positive', 'Neutral', 'Neutral', 'Neutral', 'Positive', 'Negative', 'Negative', 'Positive', 'Neutral', 'Neutral', 'Neutral', 'Neutral', 'Positive', 'Neutral', 'Neutral', 'Neutral', 'Negative', 'Negative', 'Positive', 'Neutral', 'Negative', 'Neutral', 'Positive', 'Positive', 'Neutral', 'Positive', 'Positive', 'Neutral', 'Neutral', 'Positive', 'Neutral', 'Negative', 'Neutral', 'Negative', 'Positive', 'Positive', 'Neutral', 'Negative', 'Negative', 'Negative', 'Positive', 'Positive', 'Negative', 'Positive', 'Positive', 'Positive', 'Negative', 'Neutral', 'Positive', 'Negative', 'Positive', 'Positive', 'Positive', 'Positive', 'Positive', 'Neutral', 'Neutral', 'Negative', 'Positive', 'Neutral', 'Neutral', 'Neutral', 'Positive', 'Positive', 'Negative', 'Positive', 'Positive', 'Positive', 'Positive', 'Neutral', 'Positive', 'Negative', 'Positive', 'Neutral', 'Negative', 'Neutral', 'Neutral', 'Positive', 'Positive', 'Positive', 'Negative', 'Neutral', 'Positive', 'Neutral', 'Neutral', 'Neutral', 'Neutral', 'Neutral', 'Neutral', 'Neutral', 'Neutral', 'Positive', 'Positive', 'Neutral', 'Positive', 'Positive', 'Neutral', 'Neutral', 'Neutral', 'Neutral', 'Positive', 'Neutral', 'Positive', 'Neutral', 'Positive', 'Positive', 'Neutral', 'Neutral', 'Positive', 'Neutral', 'Positive', 'Positive', 'Neutral', 'Positive', 'Neutral', 'Positive', 'Positive', 'Neutral', 'Positive', 'Positive', 'Neutral', 'Neutral', 'Neutral', 'Neutral', 'Positive', 'Negative', 'Neutral', 'Positive', 'Positive', 'Negative', 'Negative', 'Neutral', 'Positive', 'Positive', 'Positive', 'Neutral', 'Positive', 'Neutral', 'Negative', 'Neutral', 'Positive', 'Negative', 'Positive', 'Neutral', 'Negative', 'Neutral', 'Positive', 'Positive', 'Neutral', 'Positive', 'Neutral', 'Positive', 'Positive', 'Positive', 'Neutral', 'Positive', 'Neutral', 'Neutral', 'Neutral', 'Positive', 'Positive', 'Neutral', 'Negative', 'Neutral', 'Negative', 'Positive', 'Negative', 'Positive', 'Neutral', 'Neutral', 'Neutral', 'Neutral', 'Negative', 'Positive', 'Positive', 'Positive', 'Positive', 'Negative', 'Negative', 'Positive', 'Positive', 'Positive', 'Negative', 'Positive', 'Positive', 'Negative', 'Neutral', 'Negative', 'Negative', 'Neutral', 'Neutral', 'Neutral', 'Positive', 'Negative', 'Positive', 'Neutral', 'Positive', 'Positive', 'Neutral', 'Negative', 'Negative', 'Positive', 'Negative', 'Neutral', 'Neutral', 'Negative', 'Neutral', 'Neutral', 'Neutral', 'Negative', 'Neutral', 'Positive', 'Negative', 'Positive', 'Neutral', 'Positive', 'Negative', 'Neutral', 'Neutral', 'Positive', 'Negative', 'Positive', 'Positive', 'Neutral', 'Positive', 'Positive', 'Positive', 'Positive', 'Neutral', 'Neutral', 'Positive', 'Neutral', 'Positive', 'Neutral', 'Neutral', 'Neutral', 'Neutral', 'Negative', 'Positive', 'Neutral', 'Neutral', 'Neutral', 'Positive', 'Positive', 'Positive', 'Positive', 'Neutral', 'Neutral', 'Neutral', 'Positive', 'Neutral', 'Negative', 'Positive', 'Neutral', 'Neutral', 'Neutral', 'Negative', 'Neutral', 'Positive', 'Positive', 'Negative', 'Positive', 'Neutral', 'Positive', 'Neutral', 'Positive', 'Positive', 'Negative', 'Neutral', 'Negative', 'Neutral', 'Positive', 'Positive', 'Negative', 'Negative', 'Neutral', 'Positive', 'Negative', 'Positive', 'Neutral', 'Negative', 'Positive', 'Positive', 'Neutral', 'Positive', 'Positive', 'Positive', 'Neutral', 'Negative', 'Positive', 'Positive', 'Positive', 'Positive', 'Negative', 'Neutral', 'Positive', 'Neutral', 'Neutral', 'Neutral', 'Positive', 'Negative', 'Neutral', 'Neutral', 'Negative', 'Neutral', 'Positive', 'Neutral', 'Neutral', 'Negative', 'Neutral', 'Positive', 'Positive', 'Negative', 'Neutral', 'Positive', 'Positive', 'Positive', 'Positive', 'Positive', 'Neutral', 'Positive', 'Positive', 'Positive', 'Neutral', 'Negative', 'Positive', 'Neutral', 'Neutral', 'Negative', 'Negative', 'Negative', 'Neutral', 'Neutral', 'Neutral', 'Neutral', 'Positive', 'Positive', 'Positive', 'Neutral', 'Neutral', 'Neutral', 'Positive', 'Negative', 'Negative', 'Negative', 'Neutral', 'Neutral', 'Neutral', 'Neutral', 'Neutral', 'Positive', 'Neutral', 'Neutral', 'Neutral', 'Neutral', 'Neutral', 'Neutral', 'Positive', 'Neutral', 'Negative', 'Neutral', 'Positive', 'Neutral', 'Positive', 'Positive', 'Positive', 'Negative', 'Neutral', 'Negative', 'Neutral', 'Negative', 'Negative', 'Positive', 'Neutral', 'Neutral', 'Negative', 'Neutral', 'Negative', 'Positive', 'Positive', 'Negative', 'Negative', 'Negative', 'Neutral', 'Positive', 'Neutral', 'Neutral', 'Positive', 'Neutral', 'Positive', 'Neutral', 'Positive', 'Neutral', 'Positive', 'Neutral', 'Negative', 'Neutral', 'Neutral', 'Positive', 'Positive', 'Negative', 'Neutral', 'Negative', 'Positive', 'Negative', 'Neutral', 'Neutral', 'Neutral', 'Neutral', 'Neutral', 'Positive', 'Negative', 'Negative', 'Neutral', 'Neutral', 'Neutral', 'Neutral', 'Neutral', 'Neutral', 'Positive', 'Neutral', 'Negative', 'Negative', 'Neutral', 'Negative', 'Negative', 'Negative', 'Neutral', 'Positive', 'Negative', 'Positive', 'Neutral', 'Positive', 'Positive', 'Neutral', 'Negative', 'Negative', 'Neutral', 'Neutral', 'Neutral', 'Negative', 'Neutral', 'Neutral', 'Neutral', 'Positive', 'Positive', 'Positive', 'Positive', 'Positive', 'Neutral', 'Positive', 'Negative', 'Negative', 'Positive', 'Positive', 'Negative', 'Neutral', 'Neutral', 'Positive', 'Positive', 'Neutral', 'Neutral', 'Neutral', 'Negative', 'Positive', 'Neutral', 'Neutral', 'Neutral', 'Neutral', 'Negative', 'Neutral', 'Positive', 'Negative', 'Positive', 'Negative', 'Positive', 'Neutral', 'Positive', 'Positive', 'Negative', 'Neutral', 'Negative', 'Neutral', 'Negative', 'Negative', 'Positive', 'Negative', 'Positive', 'Negative', 'Positive', 'Positive', 'Neutral', 'Positive', 'Negative', 'Negative', 'Neutral', 'Neutral', 'Positive', 'Neutral', 'Neutral', 'Neutral', 'Positive', 'Neutral', 'Neutral', 'Positive', 'Negative', 'Negative', 'Negative', 'Neutral', 'Neutral', 'Positive', 'Negative', 'Neutral', 'Negative', 'Neutral', 'Negative', 'Positive', 'Negative', 'Positive', 'Neutral', 'Positive', 'Neutral', 'Negative', 'Positive', 'Neutral', 'Negative', 'Neutral', 'Positive', 'Positive', 'Positive', 'Negative', 'Positive', 'Positive', 'Neutral', 'Positive', 'Neutral', 'Negative', 'Neutral', 'Neutral', 'Neutral', 'Neutral', 'Neutral', 'Neutral', 'Positive', 'Negative', 'Positive', 'Negative', 'Negative', 'Neutral', 'Neutral', 'Neutral', 'Neutral', 'Negative', 'Negative', 'Neutral', 'Positive', 'Positive', 'Positive', 'Neutral', 'Neutral', 'Positive', 'Positive', 'Positive', 'Negative', 'Positive', 'Positive', 'Positive', 'Neutral', 'Positive', 'Neutral', 'Positive', 'Neutral', 'Neutral', 'Negative', 'Positive', 'Neutral', 'Positive', 'Neutral', 'Neutral', 'Positive', 'Positive', 'Positive', 'Negative', 'Positive', 'Positive', 'Neutral', 'Positive', 'Neutral', 'Neutral', 'Neutral', 'Positive', 'Neutral', 'Neutral', 'Positive', 'Neutral', 'Neutral', 'Positive', 'Positive', 'Positive', 'Positive', 'Positive', 'Neutral', 'Positive', 'Positive', 'Positive', 'Positive', 'Positive', 'Positive', 'Positive', 'Neutral', 'Positive', 'Neutral', 'Positive', 'Negative', 'Positive', 'Neutral', 'Neutral', 'Neutral', 'Positive', 'Positive', 'Neutral', 'Neutral', 'Negative', 'Negative', 'Positive', 'Neutral', 'Positive', 'Negative', 'Positive', 'Positive', 'Negative', 'Neutral', 'Positive', 'Negative', 'Neutral', 'Positive', 'Negative', 'Positive', 'Neutral', 'Positive', 'Positive', 'Positive', 'Positive', 'Positive', 'Neutral', 'Positive', 'Positive', 'Neutral', 'Neutral', 'Negative', 'Positive', 'Positive', 'Neutral', 'Neutral', 'Positive', 'Neutral', 'Neutral', 'Neutral', 'Neutral', 'Positive', 'Neutral', 'Positive', 'Neutral', 'Positive', 'Neutral', 'Positive', 'Negative', 'Negative', 'Neutral', 'Negative', 'Positive', 'Neutral', 'Positive', 'Negative', 'Neutral', 'Positive', 'Positive', 'Positive', 'Neutral', 'Neutral', 'Negative', 'Neutral', 'Neutral', 'Positive', 'Neutral', 'Neutral', 'Neutral', 'Neutral', 'Neutral', 'Neutral', 'Positive', 'Negative', 'Negative', 'Positive', 'Negative', 'Neutral', 'Neutral', 'Positive', 'Positive', 'Neutral', 'Neutral', 'Positive', 'Neutral', 'Positive', 'Neutral', 'Positive', 'Neutral', 'Positive', 'Negative', 'Neutral', 'Negative', 'Negative', 'Positive', 'Positive', 'Neutral', 'Neutral', 'Positive', 'Positive', 'Positive', 'Positive', 'Neutral', 'Neutral', 'Neutral', 'Neutral', 'Negative', 'Neutral', 'Negative', 'Positive', 'Positive', 'Positive', 'Neutral', 'Positive', 'Negative', 'Negative', 'Neutral', 'Neutral', 'Positive', 'Neutral', 'Neutral', 'Neutral', 'Negative', 'Positive', 'Neutral', 'Neutral', 'Positive', 'Neutral', 'Positive', 'Positive', 'Positive', 'Positive', 'Positive', 'Neutral', 'Positive', 'Neutral', 'Positive', 'Positive', 'Neutral', 'Neutral', 'Positive', 'Positive', 'Negative', 'Positive', 'Negative', 'Positive', 'Negative', 'Positive', 'Neutral', 'Positive', 'Negative', 'Neutral', 'Negative', 'Neutral', 'Neutral', 'Positive', 'Neutral', 'Neutral', 'Positive', 'Neutral', 'Neutral', 'Neutral', 'Positive', 'Positive', 'Positive', 'Negative', 'Positive', 'Positive', 'Neutral', 'Neutral', 'Neutral', 'Positive', 'Positive', 'Neutral', 'Negative', 'Positive', 'Neutral', 'Negative', 'Positive', 'Negative', 'Neutral', 'Neutral', 'Negative', 'Negative', 'Positive', 'Positive', 'Negative', 'Positive', 'Neutral', 'Neutral', 'Positive', 'Neutral', 'Negative', 'Neutral', 'Neutral', 'Neutral', 'Neutral', 'Positive', 'Negative', 'Neutral', 'Negative', 'Positive', 'Positive', 'Positive', 'Positive', 'Positive', 'Neutral', 'Neutral', 'Neutral', 'Neutral', 'Neutral', 'Neutral', 'Neutral', 'Neutral', 'Positive', 'Positive', 'Neutral', 'Positive', 'Neutral', 'Neutral', 'Negative', 'Positive', 'Positive', 'Negative', 'Positive', 'Negative', 'Neutral', 'Positive', 'Neutral', 'Neutral', 'Negative', 'Neutral', 'Neutral', 'Positive', 'Neutral', 'Neutral', 'Neutral', 'Positive', 'Neutral', 'Neutral', 'Positive', 'Neutral', 'Positive', 'Neutral', 'Positive', 'Negative', 'Neutral', 'Negative', 'Negative', 'Neutral', 'Neutral', 'Positive', 'Positive', 'Positive', 'Neutral', 'Neutral', 'Negative', 'Positive', 'Positive', 'Neutral', 'Positive', 'Negative', 'Negative', 'Neutral', 'Neutral', 'Positive', 'Negative', 'Positive', 'Neutral', 'Neutral', 'Neutral', 'Neutral', 'Positive', 'Neutral', 'Positive', 'Positive', 'Positive', 'Positive', 'Positive', 'Neutral', 'Negative', 'Positive', 'Positive', 'Negative', 'Neutral', 'Positive', 'Positive', 'Negative', 'Negative', 'Neutral', 'Positive', 'Positive', 'Positive', 'Neutral', 'Neutral', 'Neutral', 'Positive', 'Positive', 'Neutral', 'Positive', 'Neutral', 'Neutral', 'Negative', 'Positive', 'Neutral', 'Neutral', 'Neutral', 'Negative', 'Positive', 'Negative', 'Positive', 'Neutral', 'Neutral', 'Positive', 'Positive', 'Negative', 'Positive', 'Negative', 'Positive', 'Neutral', 'Positive', 'Neutral', 'Neutral', 'Positive', 'Neutral', 'Positive', 'Neutral', 'Positive', 'Neutral', 'Positive', 'Neutral', 'Positive', 'Positive', 'Positive', 'Neutral', 'Neutral', 'Negative', 'Positive', 'Neutral', 'Negative', 'Positive', 'Positive', 'Positive', 'Neutral', 'Neutral', 'Neutral', 'Neutral', 'Neutral', 'Positive', 'Neutral', 'Positive', 'Positive', 'Positive', 'Neutral', 'Positive', 'Positive', 'Neutral', 'Positive', 'Neutral', 'Neutral', 'Negative', 'Positive', 'Neutral', 'Positive', 'Positive', 'Neutral', 'Neutral', 'Neutral', 'Neutral', 'Neutral', 'Negative', 'Positive', 'Negative', 'Positive', 'Neutral', 'Positive', 'Positive', 'Neutral', 'Neutral', 'Positive', 'Negative', 'Positive', 'Positive', 'Negative', 'Negative', 'Negative', 'Neutral', 'Neutral', 'Positive', 'Neutral', 'Neutral', 'Neutral', 'Positive', 'Negative', 'Negative', 'Neutral', 'Neutral', 'Negative', 'Positive', 'Positive', 'Neutral', 'Negative', 'Neutral', 'Negative', 'Negative', 'Neutral', 'Positive', 'Negative', 'Positive', 'Positive', 'Negative', 'Positive', 'Neutral', 'Positive', 'Positive', 'Negative', 'Positive', 'Positive', 'Positive', 'Neutral', 'Positive', 'Neutral', 'Positive', 'Neutral', 'Negative', 'Positive', 'Positive', 'Negative', 'Positive', 'Neutral', 'Positive', 'Negative', 'Positive', 'Positive', 'Negative', 'Negative', 'Positive', 'Positive', 'Negative', 'Neutral', 'Positive', 'Positive', 'Negative', 'Negative', 'Positive', 'Negative', 'Positive', 'Neutral', 'Positive', 'Positive', 'Neutral', 'Neutral', 'Neutral', 'Neutral', 'Positive', 'Positive', 'Positive', 'Positive', 'Positive', 'Negative', 'Negative', 'Negative', 'Neutral', 'Positive', 'Neutral', 'Positive', 'Neutral', 'Neutral', 'Positive', 'Negative', 'Positive', 'Neutral', 'Neutral', 'Neutral', 'Neutral', 'Neutral', 'Neutral', 'Neutral', 'Neutral', 'Neutral', 'Positive', 'Neutral', 'Neutral', 'Neutral', 'Neutral', 'Neutral', 'Neutral', 'Positive', 'Neutral', 'Neutral', 'Neutral', 'Negative', 'Neutral', 'Negative', 'Positive', 'Neutral', 'Positive', 'Neutral', 'Neutral', 'Positive', 'Neutral', 'Neutral', 'Neutral', 'Neutral', 'Neutral', 'Positive', 'Positive', 'Positive', 'Positive', 'Negative', 'Positive', 'Positive', 'Positive', 'Neutral', 'Neutral', 'Neutral', 'Positive', 'Positive', 'Positive', 'Neutral', 'Neutral', 'Neutral', 'Positive', 'Neutral', 'Neutral', 'Neutral', 'Negative', 'Positive', 'Positive', 'Negative', 'Neutral', 'Positive', 'Positive', 'Neutral', 'Neutral', 'Neutral', 'Negative', 'Neutral', 'Neutral', 'Positive', 'Neutral', 'Positive', 'Positive', 'Neutral', 'Negative', 'Positive', 'Neutral', 'Neutral', 'Positive', 'Neutral', 'Positive', 'Neutral', 'Neutral', 'Positive', 'Negative', 'Negative', 'Neutral', 'Negative', 'Neutral', 'Neutral', 'Positive', 'Neutral', 'Positive', 'Positive', 'Positive', 'Positive', 'Positive', 'Positive', 'Neutral', 'Neutral', 'Negative', 'Positive', 'Positive', 'Positive', 'Positive', 'Negative', 'Neutral', 'Neutral', 'Positive', 'Positive', 'Neutral', 'Neutral', 'Positive', 'Negative', 'Neutral', 'Positive', 'Neutral', 'Neutral', 'Neutral', 'Neutral', 'Neutral', 'Negative', 'Negative', 'Neutral', 'Negative', 'Neutral', 'Neutral', 'Positive', 'Positive', 'Positive', 'Positive', 'Neutral', 'Positive', 'Positive', 'Positive', 'Neutral', 'Neutral', 'Positive', 'Negative', 'Neutral', 'Neutral', 'Neutral', 'Positive', 'Negative', 'Positive', 'Positive', 'Positive', 'Negative', 'Positive', 'Neutral', 'Neutral', 'Positive', 'Negative', 'Positive', 'Negative', 'Neutral', 'Neutral', 'Negative', 'Neutral', 'Positive', 'Neutral', 'Neutral', 'Negative', 'Positive', 'Positive', 'Neutral', 'Positive', 'Neutral', 'Positive', 'Negative', 'Neutral', 'Positive', 'Positive', 'Neutral', 'Positive', 'Negative', 'Positive', 'Negative', 'Negative', 'Positive', 'Negative', 'Positive', 'Neutral', 'Neutral', 'Neutral', 'Negative', 'Negative', 'Neutral', 'Neutral', 'Neutral', 'Positive', 'Neutral', 'Negative', 'Neutral', 'Positive', 'Neutral', 'Neutral', 'Positive', 'Neutral', 'Neutral', 'Neutral', 'Positive', 'Neutral', 'Negative', 'Positive', 'Neutral', 'Positive', 'Positive', 'Positive', 'Positive', 'Neutral', 'Neutral', 'Neutral', 'Neutral', 'Positive', 'Positive', 'Neutral', 'Neutral', 'Positive', 'Neutral', 'Neutral', 'Positive', 'Positive', 'Negative', 'Neutral', 'Neutral', 'Negative', 'Neutral', 'Neutral', 'Neutral', 'Neutral', 'Positive', 'Negative', 'Neutral', 'Neutral', 'Neutral', 'Neutral', 'Negative', 'Negative', 'Negative', 'Neutral', 'Negative', 'Positive', 'Positive', 'Neutral', 'Neutral', 'Neutral', 'Neutral', 'Neutral', 'Positive', 'Negative', 'Neutral', 'Neutral', 'Neutral', 'Positive', 'Neutral', 'Neutral', 'Neutral', 'Negative', 'Positive', 'Negative', 'Neutral', 'Neutral', 'Positive', 'Neutral', 'Positive', 'Positive', 'Neutral', 'Positive', 'Positive', 'Positive', 'Neutral', 'Positive', 'Positive', 'Positive', 'Negative', 'Positive', 'Neutral', 'Neutral', 'Neutral', 'Positive', 'Positive', 'Neutral', 'Neutral', 'Positive', 'Neutral', 'Positive', 'Neutral', 'Neutral', 'Positive', 'Negative', 'Negative', 'Positive', 'Neutral', 'Neutral', 'Neutral', 'Neutral', 'Negative', 'Positive', 'Positive', 'Negative', 'Positive', 'Positive', 'Negative', 'Positive', 'Negative', 'Neutral', 'Positive', 'Positive', 'Neutral', 'Neutral', 'Positive', 'Positive', 'Positive', 'Neutral', 'Positive', 'Positive', 'Positive', 'Neutral', 'Positive', 'Neutral', 'Negative', 'Neutral', 'Negative', 'Positive', 'Neutral', 'Neutral', 'Positive', 'Negative', 'Positive', 'Negative', 'Positive', 'Negative', 'Neutral', 'Positive', 'Positive', 'Neutral', 'Negative', 'Neutral', 'Negative', 'Positive', 'Neutral', 'Neutral', 'Positive', 'Neutral', 'Positive', 'Positive', 'Neutral', 'Neutral', 'Positive', 'Positive', 'Negative', 'Neutral', 'Positive', 'Positive', 'Neutral', 'Neutral', 'Negative', 'Negative', 'Positive', 'Positive', 'Negative', 'Neutral', 'Negative', 'Positive', 'Neutral', 'Neutral', 'Neutral', 'Positive', 'Negative', 'Positive', 'Neutral', 'Negative', 'Positive', 'Neutral', 'Negative', 'Neutral', 'Neutral', 'Neutral', 'Negative', 'Neutral', 'Neutral', 'Neutral', 'Neutral', 'Neutral', 'Neutral', 'Neutral', 'Positive', 'Neutral', 'Neutral', 'Neutral', 'Positive', 'Neutral', 'Negative', 'Positive', 'Neutral', 'Neutral', 'Neutral', 'Neutral', 'Positive', 'Neutral', 'Positive', 'Neutral', 'Positive', 'Negative', 'Negative', 'Neutral', 'Neutral', 'Neutral', 'Negative', 'Positive', 'Positive', 'Negative', 'Negative', 'Negative', 'Neutral', 'Positive', 'Neutral', 'Neutral', 'Positive', 'Positive', 'Positive', 'Neutral', 'Neutral', 'Neutral', 'Neutral', 'Neutral', 'Negative', 'Positive', 'Neutral', 'Negative', 'Negative', 'Positive', 'Neutral', 'Neutral', 'Positive', 'Positive', 'Neutral', 'Neutral', 'Positive', 'Neutral', 'Positive', 'Neutral', 'Neutral', 'Positive', 'Neutral', 'Positive', 'Neutral', 'Neutral', 'Negative', 'Negative', 'Positive', 'Negative', 'Neutral', 'Neutral', 'Negative', 'Neutral', 'Negative', 'Neutral', 'Positive', 'Positive', 'Negative', 'Positive', 'Positive', 'Neutral', 'Neutral', 'Neutral', 'Neutral', 'Positive', 'Neutral', 'Positive', 'Positive', 'Positive', 'Positive', 'Negative', 'Neutral', 'Positive', 'Neutral', 'Neutral', 'Negative', 'Neutral', 'Positive', 'Positive', 'Positive', 'Neutral', 'Positive', 'Positive', 'Positive', 'Neutral', 'Neutral', 'Positive', 'Neutral', 'Negative', 'Positive', 'Neutral', 'Positive', 'Neutral', 'Positive', 'Neutral', 'Neutral', 'Neutral', 'Positive', 'Neutral', 'Neutral', 'Neutral', 'Neutral', 'Neutral', 'Neutral', 'Negative', 'Negative', 'Negative', 'Positive', 'Positive', 'Positive', 'Neutral', 'Neutral', 'Neutral', 'Neutral', 'Positive', 'Positive', 'Negative', 'Positive', 'Positive', 'Positive', 'Positive', 'Neutral', 'Positive', 'Neutral', 'Positive', 'Positive', 'Negative', 'Neutral', 'Neutral', 'Positive', 'Positive', 'Negative', 'Neutral', 'Positive', 'Positive', 'Positive', 'Positive', 'Positive', 'Positive', 'Positive', 'Neutral', 'Positive', 'Negative', 'Positive', 'Positive', 'Neutral', 'Positive', 'Neutral', 'Positive', 'Positive', 'Neutral', 'Neutral', 'Positive', 'Neutral', 'Positive', 'Positive', 'Positive', 'Neutral', 'Neutral', 'Neutral', 'Neutral', 'Neutral', 'Negative', 'Neutral', 'Negative', 'Negative', 'Positive', 'Positive', 'Neutral', 'Positive', 'Neutral', 'Neutral', 'Negative', 'Neutral', 'Positive', 'Neutral', 'Positive', 'Neutral', 'Positive', 'Negative', 'Negative', 'Positive', 'Positive', 'Neutral', 'Neutral', 'Negative', 'Negative', 'Negative', 'Neutral', 'Positive', 'Positive', 'Positive', 'Neutral', 'Positive', 'Positive', 'Neutral', 'Neutral', 'Neutral', 'Negative', 'Positive', 'Positive', 'Neutral', 'Negative', 'Positive', 'Positive', 'Negative', 'Positive', 'Negative', 'Negative', 'Neutral', 'Positive', 'Neutral', 'Neutral', 'Negative', 'Neutral', 'Positive', 'Negative', 'Neutral', 'Positive', 'Neutral', 'Positive', 'Negative', 'Positive', 'Positive', 'Neutral', 'Positive', 'Negative', 'Positive', 'Neutral', 'Positive', 'Neutral', 'Positive', 'Neutral', 'Neutral', 'Positive', 'Neutral', 'Neutral', 'Positive', 'Neutral', 'Neutral', 'Neutral', 'Neutral', 'Positive', 'Neutral', 'Neutral', 'Neutral', 'Negative', 'Neutral', 'Positive', 'Positive', 'Positive', 'Positive', 'Negative', 'Negative', 'Neutral', 'Positive', 'Negative', 'Positive', 'Neutral', 'Neutral', 'Positive', 'Positive', 'Negative', 'Positive', 'Neutral', 'Positive', 'Neutral', 'Neutral', 'Neutral', 'Neutral', 'Positive', 'Positive', 'Neutral', 'Positive', 'Neutral', 'Positive', 'Positive', 'Neutral', 'Positive', 'Positive', 'Neutral', 'Positive', 'Neutral', 'Neutral', 'Negative', 'Positive', 'Positive', 'Positive', 'Positive', 'Neutral', 'Positive', 'Positive', 'Neutral', 'Positive', 'Negative', 'Neutral', 'Neutral', 'Positive', 'Neutral', 'Neutral', 'Positive', 'Positive', 'Positive', 'Neutral', 'Positive', 'Positive', 'Neutral', 'Neutral', 'Neutral', 'Positive', 'Negative', 'Positive', 'Positive', 'Positive', 'Neutral', 'Positive', 'Neutral', 'Positive', 'Positive', 'Positive', 'Positive', 'Negative', 'Positive', 'Neutral', 'Neutral', 'Negative', 'Negative', 'Neutral', 'Negative', 'Neutral', 'Negative', 'Negative', 'Positive', 'Neutral', 'Neutral', 'Positive', 'Neutral', 'Positive', 'Positive', 'Neutral', 'Positive', 'Neutral', 'Neutral', 'Neutral', 'Neutral', 'Negative', 'Neutral', 'Neutral', 'Neutral', 'Neutral', 'Negative', 'Negative', 'Positive', 'Neutral', 'Neutral', 'Positive', 'Negative', 'Positive', 'Neutral', 'Neutral', 'Neutral', 'Neutral', 'Positive', 'Positive', 'Neutral', 'Neutral', 'Neutral', 'Positive', 'Positive', 'Positive', 'Positive', 'Positive', 'Neutral', 'Negative', 'Positive', 'Neutral', 'Neutral', 'Negative', 'Neutral', 'Neutral', 'Neutral', 'Positive', 'Neutral', 'Positive', 'Neutral', 'Neutral', 'Neutral', 'Positive', 'Positive', 'Neutral', 'Negative', 'Neutral', 'Negative', 'Negative', 'Positive', 'Positive', 'Positive', 'Positive', 'Negative', 'Neutral', 'Positive', 'Positive', 'Neutral', 'Neutral', 'Positive', 'Negative', 'Neutral', 'Positive', 'Positive', 'Positive', 'Positive', 'Negative', 'Negative', 'Negative', 'Positive', 'Neutral', 'Neutral', 'Neutral', 'Neutral', 'Neutral', 'Positive', 'Positive', 'Negative', 'Positive', 'Positive', 'Neutral', 'Positive', 'Positive', 'Neutral', 'Neutral', 'Neutral', 'Negative', 'Positive', 'Neutral', 'Positive', 'Neutral', 'Positive', 'Positive', 'Neutral', 'Neutral', 'Neutral', 'Neutral', 'Neutral', 'Neutral', 'Positive', 'Neutral', 'Neutral', 'Positive', 'Neutral', 'Negative', 'Neutral', 'Positive', 'Positive', 'Positive', 'Positive', 'Neutral', 'Positive', 'Positive', 'Negative', 'Neutral', 'Neutral', 'Neutral', 'Neutral', 'Negative', 'Neutral', 'Positive', 'Positive', 'Positive', 'Positive', 'Neutral', 'Neutral', 'Positive', 'Positive', 'Neutral', 'Neutral', 'Positive', 'Neutral', 'Neutral', 'Negative', 'Neutral', 'Neutral', 'Neutral', 'Neutral', 'Positive', 'Neutral', 'Neutral', 'Neutral', 'Positive', 'Positive', 'Positive', 'Neutral', 'Neutral', 'Neutral', 'Neutral', 'Neutral', 'Positive', 'Negative', 'Positive', 'Neutral', 'Neutral', 'Neutral', 'Neutral', 'Positive', 'Neutral', 'Neutral', 'Positive', 'Positive', 'Neutral', 'Negative', 'Neutral', 'Neutral', 'Positive', 'Positive', 'Positive', 'Neutral', 'Positive', 'Positive', 'Positive', 'Positive', 'Positive', 'Neutral', 'Neutral', 'Negative', 'Positive', 'Neutral', 'Positive', 'Neutral', 'Positive', 'Neutral', 'Positive', 'Positive', 'Negative', 'Positive', 'Neutral', 'Neutral', 'Neutral', 'Negative', 'Positive', 'Neutral', 'Negative', 'Neutral', 'Neutral', 'Neutral', 'Neutral', 'Positive', 'Positive', 'Neutral', 'Neutral', 'Positive', 'Positive', 'Positive', 'Positive', 'Neutral', 'Positive', 'Positive', 'Positive', 'Negative', 'Neutral', 'Neutral', 'Positive', 'Negative', 'Positive', 'Positive', 'Neutral', 'Negative', 'Neutral', 'Negative', 'Neutral', 'Neutral', 'Positive', 'Neutral', 'Neutral', 'Neutral', 'Positive', 'Neutral', 'Neutral', 'Neutral', 'Positive', 'Neutral', 'Neutral', 'Negative', 'Neutral', 'Positive', 'Neutral', 'Neutral', 'Neutral', 'Positive', 'Positive', 'Positive', 'Positive', 'Positive', 'Neutral', 'Positive', 'Positive', 'Positive', 'Neutral', 'Neutral', 'Positive', 'Positive', 'Neutral', 'Positive', 'Neutral', 'Positive', 'Neutral', 'Neutral', 'Negative', 'Positive', 'Positive', 'Negative', 'Neutral', 'Positive', 'Neutral', 'Negative', 'Neutral', 'Positive', 'Positive', 'Positive', 'Neutral', 'Neutral', 'Neutral', 'Neutral', 'Neutral', 'Neutral', 'Positive', 'Positive', 'Positive', 'Positive', 'Negative', 'Neutral', 'Neutral', 'Neutral', 'Positive', 'Neutral', 'Neutral', 'Positive', 'Neutral', 'Neutral', 'Neutral', 'Neutral', 'Neutral', 'Neutral', 'Positive', 'Positive', 'Positive', 'Neutral', 'Positive', 'Positive', 'Neutral', 'Positive', 'Positive', 'Positive', 'Positive', 'Neutral', 'Neutral', 'Positive', 'Positive', 'Neutral', 'Neutral', 'Positive', 'Neutral', 'Neutral', 'Positive', 'Negative', 'Positive', 'Neutral', 'Neutral', 'Neutral', 'Neutral', 'Neutral', 'Positive', 'Positive', 'Neutral', 'Negative', 'Neutral', 'Negative', 'Positive', 'Neutral', 'Neutral', 'Neutral', 'Positive', 'Positive', 'Positive', 'Positive', 'Positive', 'Neutral', 'Neutral', 'Neutral', 'Positive', 'Neutral', 'Negative', 'Neutral', 'Positive', 'Neutral', 'Neutral', 'Positive', 'Neutral', 'Negative', 'Positive', 'Positive', 'Neutral', 'Neutral', 'Neutral', 'Neutral', 'Neutral', 'Neutral', 'Neutral', 'Neutral', 'Neutral', 'Neutral', 'Neutral', 'Negative', 'Positive', 'Neutral', 'Neutral', 'Neutral', 'Positive', 'Neutral', 'Neutral', 'Positive', 'Positive', 'Positive', 'Positive', 'Neutral', 'Neutral', 'Neutral', 'Positive', 'Negative', 'Negative', 'Neutral', 'Neutral', 'Neutral', 'Neutral', 'Positive', 'Neutral', 'Neutral', 'Neutral', 'Positive', 'Positive', 'Positive', 'Neutral', 'Neutral', 'Positive', 'Positive', 'Positive', 'Neutral', 'Positive', 'Neutral', 'Neutral', 'Neutral', 'Neutral', 'Neutral', 'Positive', 'Positive', 'Positive', 'Neutral', 'Neutral', 'Neutral', 'Positive', 'Neutral', 'Positive', 'Neutral', 'Neutral', 'Positive', 'Negative', 'Negative', 'Positive', 'Neutral', 'Neutral', 'Positive', 'Positive', 'Negative', 'Neutral', 'Neutral', 'Neutral', 'Neutral', 'Neutral', 'Positive', 'Positive', 'Neutral', 'Positive', 'Neutral', 'Positive', 'Positive', 'Negative', 'Positive', 'Neutral', 'Neutral', 'Positive', 'Positive', 'Neutral', 'Neutral', 'Positive', 'Positive', 'Neutral', 'Neutral', 'Neutral', 'Neutral', 'Negative', 'Positive', 'Neutral', 'Negative', 'Negative', 'Positive', 'Positive', 'Neutral', 'Neutral', 'Positive', 'Positive', 'Negative', 'Neutral', 'Neutral', 'Positive', 'Positive', 'Positive', 'Negative', 'Neutral', 'Neutral', 'Neutral', 'Neutral', 'Neutral', 'Neutral', 'Negative', 'Neutral', 'Neutral', 'Negative', 'Negative', 'Positive', 'Neutral', 'Negative', 'Positive', 'Neutral', 'Positive', 'Positive', 'Negative', 'Positive', 'Neutral', 'Neutral', 'Neutral', 'Positive', 'Neutral', 'Positive', 'Neutral', 'Neutral', 'Neutral', 'Positive', 'Positive', 'Neutral', 'Positive', 'Positive', 'Neutral', 'Neutral', 'Positive', 'Positive', 'Neutral', 'Negative', 'Neutral', 'Positive', 'Neutral', 'Neutral', 'Positive', 'Neutral', 'Positive', 'Neutral', 'Neutral', 'Negative', 'Positive', 'Neutral', 'Positive', 'Neutral', 'Positive', 'Neutral', 'Negative', 'Positive', 'Neutral', 'Neutral', 'Positive', 'Negative', 'Neutral', 'Positive', 'Positive', 'Negative', 'Positive', 'Neutral', 'Positive', 'Positive', 'Positive', 'Positive', 'Negative', 'Negative', 'Neutral', 'Neutral', 'Negative', 'Negative', 'Neutral', 'Neutral', 'Negative', 'Positive', 'Neutral', 'Neutral', 'Positive', 'Positive', 'Neutral', 'Neutral', 'Neutral', 'Neutral', 'Neutral', 'Positive', 'Neutral', 'Positive', 'Negative', 'Neutral', 'Positive', 'Neutral', 'Neutral', 'Negative', 'Positive', 'Positive', 'Neutral', 'Positive', 'Positive', 'Positive', 'Neutral', 'Neutral', 'Neutral', 'Neutral', 'Neutral', 'Positive', 'Neutral', 'Neutral', 'Neutral', 'Positive', 'Positive', 'Positive', 'Positive', 'Positive', 'Positive', 'Positive', 'Positive', 'Neutral', 'Positive', 'Negative', 'Neutral', 'Neutral', 'Neutral', 'Positive', 'Neutral', 'Neutral', 'Positive', 'Neutral', 'Positive', 'Positive', 'Positive', 'Neutral', 'Negative', 'Neutral', 'Positive', 'Neutral', 'Positive', 'Positive', 'Positive', 'Neutral', 'Neutral', 'Neutral', 'Neutral', 'Positive', 'Neutral', 'Negative', 'Neutral', 'Negative', 'Negative', 'Neutral', 'Negative', 'Neutral', 'Negative', 'Negative', 'Neutral', 'Positive', 'Neutral', 'Positive', 'Positive', 'Neutral', 'Positive', 'Positive', 'Positive', 'Neutral', 'Neutral', 'Positive', 'Negative', 'Positive', 'Positive', 'Neutral', 'Positive', 'Positive', 'Positive', 'Negative', 'Positive', 'Positive', 'Positive', 'Neutral', 'Positive', 'Neutral', 'Neutral', 'Neutral', 'Neutral', 'Neutral', 'Neutral', 'Positive', 'Neutral', 'Negative', 'Negative', 'Positive', 'Neutral', 'Neutral', 'Neutral', 'Neutral', 'Positive', 'Positive', 'Neutral', 'Positive', 'Positive', 'Neutral', 'Neutral', 'Negative', 'Negative', 'Positive', 'Neutral', 'Positive', 'Neutral', 'Negative', 'Positive', 'Neutral', 'Neutral', 'Positive', 'Neutral', 'Neutral', 'Positive', 'Positive', 'Neutral', 'Neutral', 'Neutral', 'Positive', 'Positive', 'Negative', 'Positive', 'Neutral', 'Negative', 'Positive', 'Neutral', 'Positive', 'Neutral', 'Positive', 'Positive', 'Neutral', 'Neutral', 'Negative', 'Positive', 'Positive', 'Positive', 'Neutral', 'Positive', 'Positive', 'Neutral', 'Neutral', 'Neutral', 'Neutral', 'Neutral', 'Positive', 'Negative', 'Neutral', 'Neutral', 'Positive', 'Negative', 'Positive', 'Negative', 'Positive', 'Positive', 'Neutral', 'Positive', 'Positive', 'Neutral', 'Positive', 'Neutral', 'Neutral', 'Positive', 'Neutral', 'Positive', 'Neutral', 'Positive', 'Neutral', 'Negative', 'Neutral', 'Positive', 'Neutral', 'Neutral', 'Positive', 'Neutral', 'Positive', 'Neutral', 'Neutral', 'Neutral', 'Neutral', 'Positive', 'Positive', 'Neutral', 'Positive', 'Neutral', 'Neutral', 'Neutral', 'Positive', 'Positive', 'Negative', 'Positive', 'Positive', 'Positive', 'Positive', 'Neutral', 'Negative', 'Neutral', 'Positive', 'Positive', 'Neutral', 'Neutral', 'Negative', 'Neutral', 'Positive', 'Neutral', 'Neutral', 'Positive', 'Neutral', 'Neutral', 'Neutral', 'Neutral', 'Neutral', 'Neutral', 'Neutral', 'Neutral', 'Positive', 'Positive', 'Neutral', 'Positive', 'Positive', 'Neutral', 'Negative', 'Positive', 'Positive', 'Neutral', 'Positive', 'Positive', 'Neutral', 'Positive', 'Positive', 'Positive', 'Neutral', 'Neutral', 'Positive', 'Positive', 'Positive', 'Positive', 'Positive', 'Neutral', 'Neutral', 'Positive', 'Negative', 'Negative', 'Positive', 'Neutral', 'Neutral', 'Positive', 'Negative', 'Negative', 'Positive', 'Neutral', 'Neutral', 'Positive', 'Neutral', 'Positive', 'Neutral', 'Positive', 'Positive', 'Positive', 'Neutral', 'Positive', 'Negative', 'Neutral', 'Neutral', 'Positive', 'Positive', 'Positive', 'Positive', 'Positive', 'Positive', 'Positive', 'Neutral', 'Neutral', 'Positive', 'Negative', 'Neutral', 'Neutral', 'Positive', 'Positive', 'Neutral', 'Positive', 'Positive', 'Neutral', 'Positive', 'Positive', 'Positive', 'Neutral', 'Positive', 'Negative', 'Neutral', 'Positive', 'Positive', 'Negative', 'Neutral', 'Neutral', 'Neutral', 'Neutral', 'Neutral', 'Neutral', 'Neutral', 'Positive', 'Neutral', 'Positive', 'Negative', 'Positive', 'Neutral', 'Positive', 'Negative', 'Positive', 'Neutral', 'Neutral', 'Positive', 'Positive', 'Positive', 'Neutral', 'Neutral', 'Positive', 'Neutral', 'Neutral', 'Negative', 'Positive', 'Neutral', 'Neutral', 'Neutral', 'Neutral', 'Positive', 'Positive', 'Positive', 'Positive', 'Neutral', 'Neutral', 'Neutral', 'Positive', 'Neutral', 'Positive', 'Neutral', 'Positive', 'Positive', 'Positive', 'Neutral', 'Neutral', 'Positive', 'Neutral', 'Neutral', 'Neutral', 'Neutral', 'Positive', 'Positive', 'Negative', 'Negative', 'Neutral', 'Neutral', 'Neutral', 'Neutral', 'Positive', 'Neutral', 'Negative', 'Neutral', 'Negative', 'Neutral', 'Positive', 'Negative', 'Neutral', 'Positive', 'Neutral', 'Neutral', 'Neutral', 'Neutral', 'Positive', 'Negative', 'Neutral', 'Positive', 'Neutral', 'Neutral', 'Positive', 'Neutral', 'Positive', 'Positive', 'Neutral', 'Positive', 'Positive', 'Neutral', 'Neutral', 'Neutral', 'Neutral', 'Positive', 'Neutral', 'Positive', 'Negative', 'Positive', 'Positive', 'Positive', 'Neutral', 'Positive', 'Neutral', 'Neutral', 'Negative', 'Neutral', 'Positive', 'Positive', 'Neutral', 'Positive', 'Neutral', 'Negative', 'Neutral', 'Neutral', 'Negative', 'Positive', 'Positive', 'Positive', 'Neutral', 'Neutral', 'Neutral', 'Neutral', 'Neutral', 'Positive', 'Positive', 'Positive', 'Negative', 'Negative', 'Positive', 'Negative', 'Neutral', 'Neutral', 'Neutral', 'Positive', 'Positive', 'Positive', 'Positive', 'Positive', 'Neutral', 'Positive', 'Neutral', 'Positive', 'Neutral', 'Positive', 'Positive', 'Neutral', 'Neutral', 'Positive', 'Neutral', 'Positive', 'Neutral', 'Positive', 'Neutral', 'Neutral', 'Neutral', 'Neutral', 'Positive', 'Neutral', 'Neutral', 'Positive', 'Neutral', 'Positive', 'Negative', 'Neutral', 'Positive', 'Neutral', 'Neutral', 'Neutral', 'Positive', 'Positive', 'Neutral', 'Negative', 'Positive', 'Positive', 'Negative', 'Neutral', 'Neutral', 'Positive', 'Neutral', 'Neutral', 'Neutral', 'Positive', 'Positive', 'Negative', 'Negative', 'Neutral', 'Positive', 'Neutral', 'Positive', 'Positive', 'Neutral', 'Positive', 'Neutral', 'Neutral', 'Neutral', 'Positive', 'Neutral', 'Neutral', 'Neutral', 'Neutral', 'Neutral', 'Positive', 'Positive', 'Positive', 'Neutral', 'Neutral', 'Positive', 'Neutral', 'Neutral', 'Positive', 'Negative', 'Neutral', 'Negative', 'Positive', 'Neutral', 'Negative', 'Positive', 'Neutral', 'Positive', 'Positive', 'Positive', 'Neutral', 'Neutral', 'Neutral', 'Neutral', 'Negative', 'Positive', 'Negative', 'Negative', 'Positive', 'Neutral', 'Neutral', 'Neutral', 'Negative', 'Neutral', 'Positive', 'Negative', 'Positive', 'Positive', 'Positive', 'Negative', 'Positive', 'Positive', 'Positive', 'Neutral', 'Negative', 'Neutral', 'Neutral', 'Positive', 'Neutral', 'Neutral', 'Neutral', 'Neutral', 'Neutral', 'Positive', 'Negative', 'Neutral', 'Positive', 'Positive', 'Neutral', 'Neutral', 'Negative', 'Negative', 'Neutral', 'Negative', 'Neutral', 'Neutral', 'Positive', 'Neutral', 'Positive', 'Positive', 'Positive', 'Positive', 'Negative', 'Neutral', 'Neutral', 'Neutral', 'Negative', 'Neutral', 'Positive', 'Negative', 'Positive', 'Positive', 'Positive']\n"
          ],
          "name": "stdout"
        }
      ]
    },
    {
      "cell_type": "code",
      "metadata": {
        "id": "WDMxUJ0n0uVH"
      },
      "source": [
        "df['sentimento'] = pd.Series(np.array(sentimento))"
      ],
      "execution_count": 42,
      "outputs": []
    },
    {
      "cell_type": "code",
      "metadata": {
        "colab": {
          "base_uri": "https://localhost:8080/",
          "height": 702
        },
        "id": "WiI6lxeE0uhk",
        "outputId": "ddb6cc22-8d32-4da1-c2d7-62f57b8f6452"
      },
      "source": [
        "df.head()"
      ],
      "execution_count": 43,
      "outputs": [
        {
          "output_type": "execute_result",
          "data": {
            "text/html": [
              "<div>\n",
              "<style scoped>\n",
              "    .dataframe tbody tr th:only-of-type {\n",
              "        vertical-align: middle;\n",
              "    }\n",
              "\n",
              "    .dataframe tbody tr th {\n",
              "        vertical-align: top;\n",
              "    }\n",
              "\n",
              "    .dataframe thead th {\n",
              "        text-align: right;\n",
              "    }\n",
              "</style>\n",
              "<table border=\"1\" class=\"dataframe\">\n",
              "  <thead>\n",
              "    <tr style=\"text-align: right;\">\n",
              "      <th></th>\n",
              "      <th>id</th>\n",
              "      <th>user_name</th>\n",
              "      <th>user_location</th>\n",
              "      <th>user_description</th>\n",
              "      <th>user_created</th>\n",
              "      <th>user_followers</th>\n",
              "      <th>user_friends</th>\n",
              "      <th>user_favourites</th>\n",
              "      <th>user_verified</th>\n",
              "      <th>date</th>\n",
              "      <th>text</th>\n",
              "      <th>hashtags</th>\n",
              "      <th>source</th>\n",
              "      <th>retweets</th>\n",
              "      <th>favorites</th>\n",
              "      <th>is_retweet</th>\n",
              "      <th>year</th>\n",
              "      <th>month</th>\n",
              "      <th>day</th>\n",
              "      <th>dayofweek</th>\n",
              "      <th>dayofyear</th>\n",
              "      <th>weekofyear</th>\n",
              "      <th>quarter</th>\n",
              "      <th>sentiments</th>\n",
              "      <th>positive_sentiments</th>\n",
              "      <th>neutral_sentiments</th>\n",
              "      <th>negative_sentiments</th>\n",
              "      <th>compound</th>\n",
              "      <th>sentimento</th>\n",
              "    </tr>\n",
              "  </thead>\n",
              "  <tbody>\n",
              "    <tr>\n",
              "      <th>0</th>\n",
              "      <td>1340539111971516416</td>\n",
              "      <td>Rachel Roh</td>\n",
              "      <td>La Crescenta-Montrose, CA</td>\n",
              "      <td>Aggregator of Asian American news; scanning di...</td>\n",
              "      <td>2009-04-08 17:52:46</td>\n",
              "      <td>405</td>\n",
              "      <td>1692</td>\n",
              "      <td>3247</td>\n",
              "      <td>False</td>\n",
              "      <td>2020-12-20 06:06:44</td>\n",
              "      <td>Same folks said daikon paste could treat a cyt...</td>\n",
              "      <td>['PfizerBioNTech']</td>\n",
              "      <td>Twitter for Android</td>\n",
              "      <td>0</td>\n",
              "      <td>0</td>\n",
              "      <td>False</td>\n",
              "      <td>2020</td>\n",
              "      <td>12</td>\n",
              "      <td>20</td>\n",
              "      <td>6</td>\n",
              "      <td>355</td>\n",
              "      <td>51</td>\n",
              "      <td>4</td>\n",
              "      <td>{'neg': 0.0, 'neu': 0.803, 'pos': 0.197, 'comp...</td>\n",
              "      <td>0.197</td>\n",
              "      <td>0.803</td>\n",
              "      <td>0.000</td>\n",
              "      <td>0.4019</td>\n",
              "      <td>Positive</td>\n",
              "    </tr>\n",
              "    <tr>\n",
              "      <th>2</th>\n",
              "      <td>1337858199140118533</td>\n",
              "      <td>eli🇱🇹🇪🇺👌</td>\n",
              "      <td>Your Bed</td>\n",
              "      <td>heil, hydra 🖐☺</td>\n",
              "      <td>2020-06-25 23:30:28</td>\n",
              "      <td>10</td>\n",
              "      <td>88</td>\n",
              "      <td>155</td>\n",
              "      <td>False</td>\n",
              "      <td>2020-12-12 20:33:45</td>\n",
              "      <td>Russian vaccine is created to last 2-4 y...</td>\n",
              "      <td>['coronavirus', 'SputnikV', 'AstraZeneca', 'Pf...</td>\n",
              "      <td>Twitter for Android</td>\n",
              "      <td>0</td>\n",
              "      <td>0</td>\n",
              "      <td>False</td>\n",
              "      <td>2020</td>\n",
              "      <td>12</td>\n",
              "      <td>12</td>\n",
              "      <td>5</td>\n",
              "      <td>347</td>\n",
              "      <td>50</td>\n",
              "      <td>4</td>\n",
              "      <td>{'neg': 0.0, 'neu': 0.818, 'pos': 0.182, 'comp...</td>\n",
              "      <td>0.182</td>\n",
              "      <td>0.818</td>\n",
              "      <td>0.000</td>\n",
              "      <td>0.2500</td>\n",
              "      <td>Positive</td>\n",
              "    </tr>\n",
              "    <tr>\n",
              "      <th>6</th>\n",
              "      <td>1337851215875608579</td>\n",
              "      <td>Gunther Fehlinger</td>\n",
              "      <td>Austria, Ukraine and Kosovo</td>\n",
              "      <td>End North Stream 2 now - the pipeline of corru...</td>\n",
              "      <td>2013-06-10 17:49:22</td>\n",
              "      <td>2731</td>\n",
              "      <td>5001</td>\n",
              "      <td>69344</td>\n",
              "      <td>False</td>\n",
              "      <td>2020-12-12 20:06:00</td>\n",
              "      <td>it is a bit sad to claim the fame for success ...</td>\n",
              "      <td>['vaccination']</td>\n",
              "      <td>Twitter Web App</td>\n",
              "      <td>0</td>\n",
              "      <td>4</td>\n",
              "      <td>False</td>\n",
              "      <td>2020</td>\n",
              "      <td>12</td>\n",
              "      <td>12</td>\n",
              "      <td>5</td>\n",
              "      <td>347</td>\n",
              "      <td>50</td>\n",
              "      <td>4</td>\n",
              "      <td>{'neg': 0.108, 'neu': 0.662, 'pos': 0.23, 'com...</td>\n",
              "      <td>0.230</td>\n",
              "      <td>0.662</td>\n",
              "      <td>0.108</td>\n",
              "      <td>0.5423</td>\n",
              "      <td>Neutral</td>\n",
              "    </tr>\n",
              "    <tr>\n",
              "      <th>9</th>\n",
              "      <td>1337842295857623042</td>\n",
              "      <td>Ch.Amjad Ali</td>\n",
              "      <td>Islamabad</td>\n",
              "      <td>#ProudPakistani #LovePakArmy #PMIK @insafiansp...</td>\n",
              "      <td>2012-11-12 04:18:12</td>\n",
              "      <td>671</td>\n",
              "      <td>2368</td>\n",
              "      <td>20469</td>\n",
              "      <td>False</td>\n",
              "      <td>2020-12-12 19:30:33</td>\n",
              "      <td>States will start getting  Monday,  says     ...</td>\n",
              "      <td>['CovidVaccine', 'COVID19Vaccine', 'US', 'paku...</td>\n",
              "      <td>Twitter Web App</td>\n",
              "      <td>0</td>\n",
              "      <td>0</td>\n",
              "      <td>False</td>\n",
              "      <td>2020</td>\n",
              "      <td>12</td>\n",
              "      <td>12</td>\n",
              "      <td>5</td>\n",
              "      <td>347</td>\n",
              "      <td>50</td>\n",
              "      <td>4</td>\n",
              "      <td>{'neg': 0.0, 'neu': 1.0, 'pos': 0.0, 'compound...</td>\n",
              "      <td>0.000</td>\n",
              "      <td>1.000</td>\n",
              "      <td>0.000</td>\n",
              "      <td>0.0000</td>\n",
              "      <td>Negative</td>\n",
              "    </tr>\n",
              "    <tr>\n",
              "      <th>10</th>\n",
              "      <td>1337841934170255365</td>\n",
              "      <td>Tamer Yazar</td>\n",
              "      <td>Turkey-Israel</td>\n",
              "      <td>Im Market Analyst, also Editor... working (fre...</td>\n",
              "      <td>2009-09-17 16:45:16</td>\n",
              "      <td>1302</td>\n",
              "      <td>78</td>\n",
              "      <td>339</td>\n",
              "      <td>False</td>\n",
              "      <td>2020-12-12 19:29:07</td>\n",
              "      <td>while deaths are closing in on the 300,000 mar...</td>\n",
              "      <td>['PfizerBioNTech', 'Vaccine']</td>\n",
              "      <td>Twitter Web App</td>\n",
              "      <td>0</td>\n",
              "      <td>0</td>\n",
              "      <td>False</td>\n",
              "      <td>2020</td>\n",
              "      <td>12</td>\n",
              "      <td>12</td>\n",
              "      <td>5</td>\n",
              "      <td>347</td>\n",
              "      <td>50</td>\n",
              "      <td>4</td>\n",
              "      <td>{'neg': 0.0, 'neu': 1.0, 'pos': 0.0, 'compound...</td>\n",
              "      <td>0.000</td>\n",
              "      <td>1.000</td>\n",
              "      <td>0.000</td>\n",
              "      <td>0.0000</td>\n",
              "      <td>Positive</td>\n",
              "    </tr>\n",
              "  </tbody>\n",
              "</table>\n",
              "</div>"
            ],
            "text/plain": [
              "                     id          user_name  ... compound sentimento\n",
              "0   1340539111971516416         Rachel Roh  ...   0.4019   Positive\n",
              "2   1337858199140118533           eli🇱🇹🇪🇺👌  ...   0.2500   Positive\n",
              "6   1337851215875608579  Gunther Fehlinger  ...   0.5423    Neutral\n",
              "9   1337842295857623042       Ch.Amjad Ali  ...   0.0000   Negative\n",
              "10  1337841934170255365        Tamer Yazar  ...   0.0000   Positive\n",
              "\n",
              "[5 rows x 29 columns]"
            ]
          },
          "metadata": {
            "tags": []
          },
          "execution_count": 43
        }
      ]
    },
    {
      "cell_type": "code",
      "metadata": {
        "id": "4RmzUtM81s2O"
      },
      "source": [
        "def limpa_texto(text):\n",
        "  text = str(text).lower()\n",
        "  text = re.sub('[%s]' % re.escape(string.punctuation),'',text)\n",
        "  return text"
      ],
      "execution_count": 49,
      "outputs": []
    },
    {
      "cell_type": "code",
      "metadata": {
        "id": "BYkZZJdB3284"
      },
      "source": [
        "df['text']=df['text'].apply(lambda x: limpa_texto(x))"
      ],
      "execution_count": 50,
      "outputs": []
    },
    {
      "cell_type": "code",
      "metadata": {
        "id": "cm8v9ZhX4LuB"
      },
      "source": [
        "def tokenization(text):\n",
        "  text = re.split('\\W+',text)\n",
        "  return text"
      ],
      "execution_count": 53,
      "outputs": []
    },
    {
      "cell_type": "code",
      "metadata": {
        "id": "RM6kccxq1kFV"
      },
      "source": [
        "df_text = pd.DataFrame()"
      ],
      "execution_count": 54,
      "outputs": []
    },
    {
      "cell_type": "code",
      "metadata": {
        "id": "XBWCasRH5KxZ"
      },
      "source": [
        "df_text['text'] = df['text']"
      ],
      "execution_count": 55,
      "outputs": []
    },
    {
      "cell_type": "code",
      "metadata": {
        "colab": {
          "base_uri": "https://localhost:8080/",
          "height": 195
        },
        "id": "Wt06Esk55QwI",
        "outputId": "d5e89d51-0180-47ec-caf0-e01aba0dc83d"
      },
      "source": [
        "df_text.head()"
      ],
      "execution_count": 56,
      "outputs": [
        {
          "output_type": "execute_result",
          "data": {
            "text/html": [
              "<div>\n",
              "<style scoped>\n",
              "    .dataframe tbody tr th:only-of-type {\n",
              "        vertical-align: middle;\n",
              "    }\n",
              "\n",
              "    .dataframe tbody tr th {\n",
              "        vertical-align: top;\n",
              "    }\n",
              "\n",
              "    .dataframe thead th {\n",
              "        text-align: right;\n",
              "    }\n",
              "</style>\n",
              "<table border=\"1\" class=\"dataframe\">\n",
              "  <thead>\n",
              "    <tr style=\"text-align: right;\">\n",
              "      <th></th>\n",
              "      <th>text</th>\n",
              "    </tr>\n",
              "  </thead>\n",
              "  <tbody>\n",
              "    <tr>\n",
              "      <th>0</th>\n",
              "      <td>same folks said daikon paste could treat a cyt...</td>\n",
              "    </tr>\n",
              "    <tr>\n",
              "      <th>2</th>\n",
              "      <td>russian vaccine is created to last 24 ye...</td>\n",
              "    </tr>\n",
              "    <tr>\n",
              "      <th>6</th>\n",
              "      <td>it is a bit sad to claim the fame for success ...</td>\n",
              "    </tr>\n",
              "    <tr>\n",
              "      <th>9</th>\n",
              "      <td>states will start getting  monday  says     h...</td>\n",
              "    </tr>\n",
              "    <tr>\n",
              "      <th>10</th>\n",
              "      <td>while deaths are closing in on the 300000 mark...</td>\n",
              "    </tr>\n",
              "  </tbody>\n",
              "</table>\n",
              "</div>"
            ],
            "text/plain": [
              "                                                 text\n",
              "0   same folks said daikon paste could treat a cyt...\n",
              "2         russian vaccine is created to last 24 ye...\n",
              "6   it is a bit sad to claim the fame for success ...\n",
              "9    states will start getting  monday  says     h...\n",
              "10  while deaths are closing in on the 300000 mark..."
            ]
          },
          "metadata": {
            "tags": []
          },
          "execution_count": 56
        }
      ]
    },
    {
      "cell_type": "code",
      "metadata": {
        "id": "2XJXserk5ayk"
      },
      "source": [
        "df_text['tokenization'] = df_text['text'].apply(lambda x: tokenization(x.lower()))"
      ],
      "execution_count": 58,
      "outputs": []
    },
    {
      "cell_type": "code",
      "metadata": {
        "colab": {
          "base_uri": "https://localhost:8080/",
          "height": 229
        },
        "id": "_V7etsp95sIO",
        "outputId": "6ce86f0d-99a3-47a5-b9f4-2c04a6788c96"
      },
      "source": [
        "df_text.head()"
      ],
      "execution_count": 59,
      "outputs": [
        {
          "output_type": "execute_result",
          "data": {
            "text/html": [
              "<div>\n",
              "<style scoped>\n",
              "    .dataframe tbody tr th:only-of-type {\n",
              "        vertical-align: middle;\n",
              "    }\n",
              "\n",
              "    .dataframe tbody tr th {\n",
              "        vertical-align: top;\n",
              "    }\n",
              "\n",
              "    .dataframe thead th {\n",
              "        text-align: right;\n",
              "    }\n",
              "</style>\n",
              "<table border=\"1\" class=\"dataframe\">\n",
              "  <thead>\n",
              "    <tr style=\"text-align: right;\">\n",
              "      <th></th>\n",
              "      <th>text</th>\n",
              "      <th>tokenization</th>\n",
              "    </tr>\n",
              "  </thead>\n",
              "  <tbody>\n",
              "    <tr>\n",
              "      <th>0</th>\n",
              "      <td>same folks said daikon paste could treat a cyt...</td>\n",
              "      <td>[same, folks, said, daikon, paste, could, trea...</td>\n",
              "    </tr>\n",
              "    <tr>\n",
              "      <th>2</th>\n",
              "      <td>russian vaccine is created to last 24 ye...</td>\n",
              "      <td>[, russian, vaccine, is, created, to, last, 24...</td>\n",
              "    </tr>\n",
              "    <tr>\n",
              "      <th>6</th>\n",
              "      <td>it is a bit sad to claim the fame for success ...</td>\n",
              "      <td>[it, is, a, bit, sad, to, claim, the, fame, fo...</td>\n",
              "    </tr>\n",
              "    <tr>\n",
              "      <th>9</th>\n",
              "      <td>states will start getting  monday  says     h...</td>\n",
              "      <td>[, states, will, start, getting, monday, says,...</td>\n",
              "    </tr>\n",
              "    <tr>\n",
              "      <th>10</th>\n",
              "      <td>while deaths are closing in on the 300000 mark...</td>\n",
              "      <td>[while, deaths, are, closing, in, on, the, 300...</td>\n",
              "    </tr>\n",
              "  </tbody>\n",
              "</table>\n",
              "</div>"
            ],
            "text/plain": [
              "                                                 text                                       tokenization\n",
              "0   same folks said daikon paste could treat a cyt...  [same, folks, said, daikon, paste, could, trea...\n",
              "2         russian vaccine is created to last 24 ye...  [, russian, vaccine, is, created, to, last, 24...\n",
              "6   it is a bit sad to claim the fame for success ...  [it, is, a, bit, sad, to, claim, the, fame, fo...\n",
              "9    states will start getting  monday  says     h...  [, states, will, start, getting, monday, says,...\n",
              "10  while deaths are closing in on the 300000 mark...  [while, deaths, are, closing, in, on, the, 300..."
            ]
          },
          "metadata": {
            "tags": []
          },
          "execution_count": 59
        }
      ]
    },
    {
      "cell_type": "code",
      "metadata": {
        "id": "Nz07lW-m6OiZ"
      },
      "source": [
        "stopwords = nltk.corpus.stopwords.words('english')"
      ],
      "execution_count": 62,
      "outputs": []
    },
    {
      "cell_type": "code",
      "metadata": {
        "colab": {
          "base_uri": "https://localhost:8080/"
        },
        "id": "7sR16_TH6eUb",
        "outputId": "a4c325f9-6fb5-4bd0-8d2d-da8e54830cb1"
      },
      "source": [
        "stopwords"
      ],
      "execution_count": 63,
      "outputs": [
        {
          "output_type": "execute_result",
          "data": {
            "text/plain": [
              "['i',\n",
              " 'me',\n",
              " 'my',\n",
              " 'myself',\n",
              " 'we',\n",
              " 'our',\n",
              " 'ours',\n",
              " 'ourselves',\n",
              " 'you',\n",
              " \"you're\",\n",
              " \"you've\",\n",
              " \"you'll\",\n",
              " \"you'd\",\n",
              " 'your',\n",
              " 'yours',\n",
              " 'yourself',\n",
              " 'yourselves',\n",
              " 'he',\n",
              " 'him',\n",
              " 'his',\n",
              " 'himself',\n",
              " 'she',\n",
              " \"she's\",\n",
              " 'her',\n",
              " 'hers',\n",
              " 'herself',\n",
              " 'it',\n",
              " \"it's\",\n",
              " 'its',\n",
              " 'itself',\n",
              " 'they',\n",
              " 'them',\n",
              " 'their',\n",
              " 'theirs',\n",
              " 'themselves',\n",
              " 'what',\n",
              " 'which',\n",
              " 'who',\n",
              " 'whom',\n",
              " 'this',\n",
              " 'that',\n",
              " \"that'll\",\n",
              " 'these',\n",
              " 'those',\n",
              " 'am',\n",
              " 'is',\n",
              " 'are',\n",
              " 'was',\n",
              " 'were',\n",
              " 'be',\n",
              " 'been',\n",
              " 'being',\n",
              " 'have',\n",
              " 'has',\n",
              " 'had',\n",
              " 'having',\n",
              " 'do',\n",
              " 'does',\n",
              " 'did',\n",
              " 'doing',\n",
              " 'a',\n",
              " 'an',\n",
              " 'the',\n",
              " 'and',\n",
              " 'but',\n",
              " 'if',\n",
              " 'or',\n",
              " 'because',\n",
              " 'as',\n",
              " 'until',\n",
              " 'while',\n",
              " 'of',\n",
              " 'at',\n",
              " 'by',\n",
              " 'for',\n",
              " 'with',\n",
              " 'about',\n",
              " 'against',\n",
              " 'between',\n",
              " 'into',\n",
              " 'through',\n",
              " 'during',\n",
              " 'before',\n",
              " 'after',\n",
              " 'above',\n",
              " 'below',\n",
              " 'to',\n",
              " 'from',\n",
              " 'up',\n",
              " 'down',\n",
              " 'in',\n",
              " 'out',\n",
              " 'on',\n",
              " 'off',\n",
              " 'over',\n",
              " 'under',\n",
              " 'again',\n",
              " 'further',\n",
              " 'then',\n",
              " 'once',\n",
              " 'here',\n",
              " 'there',\n",
              " 'when',\n",
              " 'where',\n",
              " 'why',\n",
              " 'how',\n",
              " 'all',\n",
              " 'any',\n",
              " 'both',\n",
              " 'each',\n",
              " 'few',\n",
              " 'more',\n",
              " 'most',\n",
              " 'other',\n",
              " 'some',\n",
              " 'such',\n",
              " 'no',\n",
              " 'nor',\n",
              " 'not',\n",
              " 'only',\n",
              " 'own',\n",
              " 'same',\n",
              " 'so',\n",
              " 'than',\n",
              " 'too',\n",
              " 'very',\n",
              " 's',\n",
              " 't',\n",
              " 'can',\n",
              " 'will',\n",
              " 'just',\n",
              " 'don',\n",
              " \"don't\",\n",
              " 'should',\n",
              " \"should've\",\n",
              " 'now',\n",
              " 'd',\n",
              " 'll',\n",
              " 'm',\n",
              " 'o',\n",
              " 're',\n",
              " 've',\n",
              " 'y',\n",
              " 'ain',\n",
              " 'aren',\n",
              " \"aren't\",\n",
              " 'couldn',\n",
              " \"couldn't\",\n",
              " 'didn',\n",
              " \"didn't\",\n",
              " 'doesn',\n",
              " \"doesn't\",\n",
              " 'hadn',\n",
              " \"hadn't\",\n",
              " 'hasn',\n",
              " \"hasn't\",\n",
              " 'haven',\n",
              " \"haven't\",\n",
              " 'isn',\n",
              " \"isn't\",\n",
              " 'ma',\n",
              " 'mightn',\n",
              " \"mightn't\",\n",
              " 'mustn',\n",
              " \"mustn't\",\n",
              " 'needn',\n",
              " \"needn't\",\n",
              " 'shan',\n",
              " \"shan't\",\n",
              " 'shouldn',\n",
              " \"shouldn't\",\n",
              " 'wasn',\n",
              " \"wasn't\",\n",
              " 'weren',\n",
              " \"weren't\",\n",
              " 'won',\n",
              " \"won't\",\n",
              " 'wouldn',\n",
              " \"wouldn't\"]"
            ]
          },
          "metadata": {
            "tags": []
          },
          "execution_count": 63
        }
      ]
    },
    {
      "cell_type": "code",
      "metadata": {
        "id": "AvXO6ebo6jN1"
      },
      "source": [
        "def excluir_stopwords(text):\n",
        "  text = [i for i in text if i not in stopwords]\n",
        "  return text"
      ],
      "execution_count": 65,
      "outputs": []
    },
    {
      "cell_type": "code",
      "metadata": {
        "id": "0ok4STln6842"
      },
      "source": [
        "df_text['sem_stopwords'] = df_text['tokenization'].apply(lambda x: excluir_stopwords(x))"
      ],
      "execution_count": 66,
      "outputs": []
    },
    {
      "cell_type": "code",
      "metadata": {
        "colab": {
          "base_uri": "https://localhost:8080/",
          "height": 195
        },
        "id": "aFItlLDz7W9F",
        "outputId": "03799a82-a871-40d2-9266-da75d22d35cf"
      },
      "source": [
        "df_text.head()"
      ],
      "execution_count": 67,
      "outputs": [
        {
          "output_type": "execute_result",
          "data": {
            "text/html": [
              "<div>\n",
              "<style scoped>\n",
              "    .dataframe tbody tr th:only-of-type {\n",
              "        vertical-align: middle;\n",
              "    }\n",
              "\n",
              "    .dataframe tbody tr th {\n",
              "        vertical-align: top;\n",
              "    }\n",
              "\n",
              "    .dataframe thead th {\n",
              "        text-align: right;\n",
              "    }\n",
              "</style>\n",
              "<table border=\"1\" class=\"dataframe\">\n",
              "  <thead>\n",
              "    <tr style=\"text-align: right;\">\n",
              "      <th></th>\n",
              "      <th>text</th>\n",
              "      <th>tokenization</th>\n",
              "      <th>sem_stopwords</th>\n",
              "    </tr>\n",
              "  </thead>\n",
              "  <tbody>\n",
              "    <tr>\n",
              "      <th>0</th>\n",
              "      <td>same folks said daikon paste could treat a cyt...</td>\n",
              "      <td>[same, folks, said, daikon, paste, could, trea...</td>\n",
              "      <td>[folks, said, daikon, paste, could, treat, cyt...</td>\n",
              "    </tr>\n",
              "    <tr>\n",
              "      <th>2</th>\n",
              "      <td>russian vaccine is created to last 24 ye...</td>\n",
              "      <td>[, russian, vaccine, is, created, to, last, 24...</td>\n",
              "      <td>[, russian, vaccine, created, last, 24, years,...</td>\n",
              "    </tr>\n",
              "    <tr>\n",
              "      <th>6</th>\n",
              "      <td>it is a bit sad to claim the fame for success ...</td>\n",
              "      <td>[it, is, a, bit, sad, to, claim, the, fame, fo...</td>\n",
              "      <td>[bit, sad, claim, fame, success, patriotic, co...</td>\n",
              "    </tr>\n",
              "    <tr>\n",
              "      <th>9</th>\n",
              "      <td>states will start getting  monday  says     h...</td>\n",
              "      <td>[, states, will, start, getting, monday, says,...</td>\n",
              "      <td>[, states, start, getting, monday, says, https...</td>\n",
              "    </tr>\n",
              "    <tr>\n",
              "      <th>10</th>\n",
              "      <td>while deaths are closing in on the 300000 mark...</td>\n",
              "      <td>[while, deaths, are, closing, in, on, the, 300...</td>\n",
              "      <td>[deaths, closing, 300000, mark, millions, peop...</td>\n",
              "    </tr>\n",
              "  </tbody>\n",
              "</table>\n",
              "</div>"
            ],
            "text/plain": [
              "                                                 text  ...                                      sem_stopwords\n",
              "0   same folks said daikon paste could treat a cyt...  ...  [folks, said, daikon, paste, could, treat, cyt...\n",
              "2         russian vaccine is created to last 24 ye...  ...  [, russian, vaccine, created, last, 24, years,...\n",
              "6   it is a bit sad to claim the fame for success ...  ...  [bit, sad, claim, fame, success, patriotic, co...\n",
              "9    states will start getting  monday  says     h...  ...  [, states, start, getting, monday, says, https...\n",
              "10  while deaths are closing in on the 300000 mark...  ...  [deaths, closing, 300000, mark, millions, peop...\n",
              "\n",
              "[5 rows x 3 columns]"
            ]
          },
          "metadata": {
            "tags": []
          },
          "execution_count": 67
        }
      ]
    },
    {
      "cell_type": "code",
      "metadata": {
        "id": "xPksd-sm7eWH"
      },
      "source": [
        "temp = df.groupby('sentimento').count()['text'].reset_index().sort_values(by='text', ascending=False)"
      ],
      "execution_count": 69,
      "outputs": []
    },
    {
      "cell_type": "code",
      "metadata": {
        "colab": {
          "base_uri": "https://localhost:8080/",
          "height": 98
        },
        "id": "DbniQKjJ8jVL",
        "outputId": "92db98e1-82bb-4621-db53-82296c7c70d2"
      },
      "source": [
        "temp.style.background_gradient()"
      ],
      "execution_count": 70,
      "outputs": [
        {
          "output_type": "execute_result",
          "data": {
            "text/html": [
              "<style  type=\"text/css\" >\n",
              "#T_6e77eb10_a2d9_11eb_bbc4_0242ac1c0002row0_col1{\n",
              "            background-color:  #023858;\n",
              "            color:  #f1f1f1;\n",
              "        }#T_6e77eb10_a2d9_11eb_bbc4_0242ac1c0002row1_col1{\n",
              "            background-color:  #046299;\n",
              "            color:  #f1f1f1;\n",
              "        }#T_6e77eb10_a2d9_11eb_bbc4_0242ac1c0002row2_col1{\n",
              "            background-color:  #fff7fb;\n",
              "            color:  #000000;\n",
              "        }</style><table id=\"T_6e77eb10_a2d9_11eb_bbc4_0242ac1c0002\" ><thead>    <tr>        <th class=\"blank level0\" ></th>        <th class=\"col_heading level0 col0\" >sentimento</th>        <th class=\"col_heading level0 col1\" >text</th>    </tr></thead><tbody>\n",
              "                <tr>\n",
              "                        <th id=\"T_6e77eb10_a2d9_11eb_bbc4_0242ac1c0002level0_row0\" class=\"row_heading level0 row0\" >1</th>\n",
              "                        <td id=\"T_6e77eb10_a2d9_11eb_bbc4_0242ac1c0002row0_col0\" class=\"data row0 col0\" >Neutral</td>\n",
              "                        <td id=\"T_6e77eb10_a2d9_11eb_bbc4_0242ac1c0002row0_col1\" class=\"data row0 col1\" >1216</td>\n",
              "            </tr>\n",
              "            <tr>\n",
              "                        <th id=\"T_6e77eb10_a2d9_11eb_bbc4_0242ac1c0002level0_row1\" class=\"row_heading level0 row1\" >2</th>\n",
              "                        <td id=\"T_6e77eb10_a2d9_11eb_bbc4_0242ac1c0002row1_col0\" class=\"data row1 col0\" >Positive</td>\n",
              "                        <td id=\"T_6e77eb10_a2d9_11eb_bbc4_0242ac1c0002row1_col1\" class=\"data row1 col1\" >1083</td>\n",
              "            </tr>\n",
              "            <tr>\n",
              "                        <th id=\"T_6e77eb10_a2d9_11eb_bbc4_0242ac1c0002level0_row2\" class=\"row_heading level0 row2\" >0</th>\n",
              "                        <td id=\"T_6e77eb10_a2d9_11eb_bbc4_0242ac1c0002row2_col0\" class=\"data row2 col0\" >Negative</td>\n",
              "                        <td id=\"T_6e77eb10_a2d9_11eb_bbc4_0242ac1c0002row2_col1\" class=\"data row2 col1\" >428</td>\n",
              "            </tr>\n",
              "    </tbody></table>"
            ],
            "text/plain": [
              "<pandas.io.formats.style.Styler at 0x7f7aa2fbc210>"
            ]
          },
          "metadata": {
            "tags": []
          },
          "execution_count": 70
        }
      ]
    }
  ]
}